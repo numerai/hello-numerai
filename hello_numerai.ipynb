{
 "cells": [
  {
   "attachments": {},
   "cell_type": "markdown",
   "metadata": {},
   "source": [
    "# Hello Numerai\n",
    "\n",
    "In this notebook we will go through the basics of the tournament\n",
    "1. Dataset: how to download the dataset and understand its basic structure\n",
    "2. Modeling: how to train our first model \n",
    "3. Submissions: how to upload our model to make live submissions"
   ]
  },
  {
   "cell_type": "code",
   "execution_count": 31,
   "metadata": {},
   "outputs": [],
   "source": [
    "# Install dependencies\n",
    "!pip install -q numerapi pandas matplotlib lightgbm pyarrow cloudpickle"
   ]
  },
  {
   "attachments": {},
   "cell_type": "markdown",
   "metadata": {},
   "source": [
    "## 1. Dataset  \n",
    "\n",
    "Let's download the dataset and get familar with its basic structure. \n"
   ]
  },
  {
   "cell_type": "code",
   "execution_count": 32,
   "metadata": {},
   "outputs": [
    {
     "data": {
      "text/plain": [
       "['v4.1/features.json',\n",
       " 'v4.1/live.parquet',\n",
       " 'v4.1/live_example_preds.csv',\n",
       " 'v4.1/live_example_preds.parquet',\n",
       " 'v4.1/live_int8.parquet',\n",
       " 'v4.1/meta_model.parquet',\n",
       " 'v4.1/train.parquet',\n",
       " 'v4.1/train_int8.parquet',\n",
       " 'v4.1/validation.parquet',\n",
       " 'v4.1/validation_example_preds.csv',\n",
       " 'v4.1/validation_example_preds.parquet',\n",
       " 'v4.1/validation_int8.parquet']"
      ]
     },
     "execution_count": 32,
     "metadata": {},
     "output_type": "execute_result"
    }
   ],
   "source": [
    "# Numerai API is the official Python API client for Numerai\n",
    "# We will be using it to download the dataset\n",
    "from numerapi import NumerAPI\n",
    "napi = NumerAPI()\n",
    "\n",
    "# v4.1 is the latest version of the dataset\n",
    "# Let's see what files are available for download\n",
    "[f for f in napi.list_datasets() if f.startswith(\"v4.1\")]"
   ]
  },
  {
   "attachments": {},
   "cell_type": "markdown",
   "metadata": {},
   "source": [
    "In this example, we will focus on the following files:\n",
    "- `features.json`: feature metadata\n",
    "- `train.parquet`: historical data for training our model\n",
    "- `valdation.parquet`: hold out historical data for evaluating our model\n",
    "- `live.parquet`: live features for making submissions"
   ]
  },
  {
   "cell_type": "code",
   "execution_count": 33,
   "metadata": {},
   "outputs": [
    {
     "name": "stderr",
     "output_type": "stream",
     "text": [
      "2023-04-17 16:08:51,121 INFO numerapi.utils: target file already exists\n",
      "2023-04-17 16:08:51,122 INFO numerapi.utils: download complete\n",
      "2023-04-17 16:08:51,514 INFO numerapi.utils: target file already exists\n",
      "2023-04-17 16:08:51,516 INFO numerapi.utils: download complete\n"
     ]
    }
   ],
   "source": [
    "# Let's download the training data and feature metadata files\n",
    "# This will take about 1 minute 🍵\n",
    "napi.download_dataset(\"v4.1/train.parquet\");\n",
    "napi.download_dataset(\"v4.1/features.json\");"
   ]
  },
  {
   "cell_type": "code",
   "execution_count": 34,
   "metadata": {},
   "outputs": [],
   "source": [
    "import pandas as pd\n",
    "import json\n",
    "\n",
    "# The feature metadata file contains a lot of useful information about the features\n",
    "# In particular, it defines various feature sets that are useful for training smaller models\n",
    "# In this example, we will be using the \"small\" feature set to save time and memory \n",
    "# In practice, you will probably want to use all the features to maximize your model's performance \n",
    "feature_metadata = json.load(open(\"v4.1/features.json\")) \n",
    "feature_cols = feature_metadata[\"feature_sets\"][\"small\"]\n",
    "\n",
    "# Load the training data but only the \"small\" subset of features\n",
    "training_data = pd.read_parquet(\"v4.1/train.parquet\", columns= [\"era\"] + feature_cols + [\"target\"]) "
   ]
  },
  {
   "cell_type": "code",
   "execution_count": 35,
   "metadata": {},
   "outputs": [
    {
     "data": {
      "text/html": [
       "<div>\n",
       "<style scoped>\n",
       "    .dataframe tbody tr th:only-of-type {\n",
       "        vertical-align: middle;\n",
       "    }\n",
       "\n",
       "    .dataframe tbody tr th {\n",
       "        vertical-align: top;\n",
       "    }\n",
       "\n",
       "    .dataframe thead th {\n",
       "        text-align: right;\n",
       "    }\n",
       "</style>\n",
       "<table border=\"1\" class=\"dataframe\">\n",
       "  <thead>\n",
       "    <tr style=\"text-align: right;\">\n",
       "      <th></th>\n",
       "      <th>era</th>\n",
       "      <th>feature_bijou_penetrant_syringa</th>\n",
       "      <th>...</th>\n",
       "      <th>feature_unventilated_sollar_bason</th>\n",
       "      <th>target</th>\n",
       "    </tr>\n",
       "    <tr>\n",
       "      <th>id</th>\n",
       "      <th></th>\n",
       "      <th></th>\n",
       "      <th></th>\n",
       "      <th></th>\n",
       "      <th></th>\n",
       "    </tr>\n",
       "  </thead>\n",
       "  <tbody>\n",
       "    <tr>\n",
       "      <th>n003bba8a98662e4</th>\n",
       "      <td>0001</td>\n",
       "      <td>0.00</td>\n",
       "      <td>...</td>\n",
       "      <td>0.00</td>\n",
       "      <td>0.25</td>\n",
       "    </tr>\n",
       "    <tr>\n",
       "      <th>n003bee128c2fcfc</th>\n",
       "      <td>0001</td>\n",
       "      <td>0.50</td>\n",
       "      <td>...</td>\n",
       "      <td>0.25</td>\n",
       "      <td>0.75</td>\n",
       "    </tr>\n",
       "    <tr>\n",
       "      <th>n0048ac83aff7194</th>\n",
       "      <td>0001</td>\n",
       "      <td>0.25</td>\n",
       "      <td>...</td>\n",
       "      <td>1.00</td>\n",
       "      <td>0.50</td>\n",
       "    </tr>\n",
       "    <tr>\n",
       "      <th>n00691bec80d3e02</th>\n",
       "      <td>0001</td>\n",
       "      <td>0.75</td>\n",
       "      <td>...</td>\n",
       "      <td>0.75</td>\n",
       "      <td>0.75</td>\n",
       "    </tr>\n",
       "    <tr>\n",
       "      <th>n00b8720a2fdc4f2</th>\n",
       "      <td>0001</td>\n",
       "      <td>0.00</td>\n",
       "      <td>...</td>\n",
       "      <td>0.00</td>\n",
       "      <td>0.75</td>\n",
       "    </tr>\n",
       "    <tr>\n",
       "      <th>...</th>\n",
       "      <td>...</td>\n",
       "      <td>...</td>\n",
       "      <td>...</td>\n",
       "      <td>...</td>\n",
       "      <td>...</td>\n",
       "    </tr>\n",
       "    <tr>\n",
       "      <th>nffcc1dbdf2212e6</th>\n",
       "      <td>0574</td>\n",
       "      <td>1.00</td>\n",
       "      <td>...</td>\n",
       "      <td>1.00</td>\n",
       "      <td>0.75</td>\n",
       "    </tr>\n",
       "    <tr>\n",
       "      <th>nffd71b7f6a128df</th>\n",
       "      <td>0574</td>\n",
       "      <td>0.75</td>\n",
       "      <td>...</td>\n",
       "      <td>0.50</td>\n",
       "      <td>0.00</td>\n",
       "    </tr>\n",
       "    <tr>\n",
       "      <th>nffde3b371d67394</th>\n",
       "      <td>0574</td>\n",
       "      <td>0.75</td>\n",
       "      <td>...</td>\n",
       "      <td>1.00</td>\n",
       "      <td>0.25</td>\n",
       "    </tr>\n",
       "    <tr>\n",
       "      <th>nfff1a1111b35e84</th>\n",
       "      <td>0574</td>\n",
       "      <td>0.25</td>\n",
       "      <td>...</td>\n",
       "      <td>0.00</td>\n",
       "      <td>0.50</td>\n",
       "    </tr>\n",
       "    <tr>\n",
       "      <th>nfff2bd38e397265</th>\n",
       "      <td>0574</td>\n",
       "      <td>1.00</td>\n",
       "      <td>...</td>\n",
       "      <td>1.00</td>\n",
       "      <td>0.75</td>\n",
       "    </tr>\n",
       "  </tbody>\n",
       "</table>\n",
       "<p>2420521 rows × 34 columns</p>\n",
       "</div>"
      ],
      "text/plain": [
       "                   era  feature_bijou_penetrant_syringa  ...   \n",
       "id                                                       ...   \n",
       "n003bba8a98662e4  0001                             0.00  ...  \\\n",
       "n003bee128c2fcfc  0001                             0.50  ...   \n",
       "n0048ac83aff7194  0001                             0.25  ...   \n",
       "n00691bec80d3e02  0001                             0.75  ...   \n",
       "n00b8720a2fdc4f2  0001                             0.00  ...   \n",
       "...                ...                              ...  ...   \n",
       "nffcc1dbdf2212e6  0574                             1.00  ...   \n",
       "nffd71b7f6a128df  0574                             0.75  ...   \n",
       "nffde3b371d67394  0574                             0.75  ...   \n",
       "nfff1a1111b35e84  0574                             0.25  ...   \n",
       "nfff2bd38e397265  0574                             1.00  ...   \n",
       "\n",
       "                  feature_unventilated_sollar_bason  target  \n",
       "id                                                           \n",
       "n003bba8a98662e4                               0.00    0.25  \n",
       "n003bee128c2fcfc                               0.25    0.75  \n",
       "n0048ac83aff7194                               1.00    0.50  \n",
       "n00691bec80d3e02                               0.75    0.75  \n",
       "n00b8720a2fdc4f2                               0.00    0.75  \n",
       "...                                             ...     ...  \n",
       "nffcc1dbdf2212e6                               1.00    0.75  \n",
       "nffd71b7f6a128df                               0.50    0.00  \n",
       "nffde3b371d67394                               1.00    0.25  \n",
       "nfff1a1111b35e84                               0.00    0.50  \n",
       "nfff2bd38e397265                               1.00    0.75  \n",
       "\n",
       "[2420521 rows x 34 columns]"
      ]
     },
     "execution_count": 35,
     "metadata": {},
     "output_type": "execute_result"
    }
   ],
   "source": [
    "# Let's take a look at the training data\n",
    "# We limit the number of rows and columns displayed to make it easier to read\n",
    "pd.set_option('display.max_rows', 10)\n",
    "pd.set_option('display.max_columns', 5)\n",
    "training_data"
   ]
  },
  {
   "attachments": {},
   "cell_type": "markdown",
   "metadata": {},
   "source": [
    "At a high level, each row represents a stock on a specific date\n",
    "- `id`: obfuscated stock id, unique across different dates\n",
    "- `era`: obfuscated date, chronological and each one week apart\n",
    "- `features`: obfuscated stock features known on the date\n",
    "- `target`: 20 day subsequent specific return of the stock from the date\n",
    "\n",
    "For example\n",
    "- `n003bba8a98662e4` in era `0001` could be \"TSLA on Jan 31st 2019\" \n",
    "- `feature_bijou_penetrant_syringa=0.00` could mean \"P/E ratio in bottom 20th percentile\"\n",
    "- `feature_unventilated_sollar_bason=0.00` could mean \"6 month trailing momentum in bottom 20th percentile\"\n",
    "- `target=0.25` could mean \"20 day subsequent specific return in the bottom 40th percentile\"\n",
    "\n",
    "Don't worry if you don't know what some of this means. No financial domain knowledge is required to work with this dataset. References to the underlying financial concepts are only made to help you gain intuition about the dataset."
   ]
  },
  {
   "cell_type": "code",
   "execution_count": 36,
   "metadata": {},
   "outputs": [
    {
     "data": {
      "image/png": "[encoded data removed]",
      "text/plain": [
       "<Figure size 500x300 with 1 Axes>"
      ]
     },
     "metadata": {},
     "output_type": "display_data"
    }
   ],
   "source": [
    "# Let's plot the number of rows per era\n",
    "# This corresponds to the number stocks in Numerai's investable universe over time\n",
    "training_data.groupby(\"era\").size().plot(title=\"Number of Rows per Era\", figsize=(5, 3));"
   ]
  },
  {
   "cell_type": "code",
   "execution_count": 37,
   "metadata": {},
   "outputs": [
    {
     "data": {
      "image/png": "[encoded data removed]",
      "text/plain": [
       "<Figure size 500x300 with 1 Axes>"
      ]
     },
     "metadata": {},
     "output_type": "display_data"
    }
   ],
   "source": [
    "# Feature values are all between 0 and 1 and binned into 5 equal bins \n",
    "training_data[feature_cols[0]].plot(kind=\"hist\", bins=100, density=True, figsize=(5, 3), title=feature_cols[0]);"
   ]
  },
  {
   "cell_type": "code",
   "execution_count": 38,
   "metadata": {},
   "outputs": [
    {
     "data": {
      "image/png": "[encoded data removed]",
      "text/plain": [
       "<Figure size 500x300 with 1 Axes>"
      ]
     },
     "metadata": {},
     "output_type": "display_data"
    }
   ],
   "source": [
    "# The target value is also between 0 and 1 but binned into 5 unequal bins\n",
    "training_data[\"target\"].plot(kind=\"hist\", bins=100, density=True, figsize=(5, 3), title=\"target\");"
   ]
  },
  {
   "attachments": {},
   "cell_type": "markdown",
   "metadata": {},
   "source": [
    "## 2. Modeling\n",
    "Our task is to train machine learning models to predict the target. \n",
    "\n",
    "Let's train our first model and evaluate its performance with the validation dataset."
   ]
  },
  {
   "cell_type": "code",
   "execution_count": 39,
   "metadata": {},
   "outputs": [],
   "source": [
    "# Let's train a simple model using LightGBM\n",
    "# This will take about 2 minutes 🍵\n",
    "import lightgbm as lgb\n",
    "\n",
    "try: \n",
    "   # Load trained model if it exists\n",
    "   model = lgb.Booster(model_file='small_model.txt')\n",
    "except:\n",
    "   # Otherwise train and save the model\n",
    "   model = lgb.LGBMRegressor(\n",
    "      n_estimators=2000,\n",
    "      learning_rate=0.01,\n",
    "      max_depth=5,\n",
    "      num_leaves=2 ** 5,\n",
    "      colsample_bytree=0.1\n",
    "   )\n",
    "   model.fit(\n",
    "      training_data[feature_cols],\n",
    "      training_data[\"target\"]\n",
    "   );\n",
    "   model.booster_.save_model(\"small_model.txt\")"
   ]
  },
  {
   "attachments": {},
   "cell_type": "markdown",
   "metadata": {},
   "source": [
    "# 3. Submissions\n",
    "Unlike Kaggle competitions where models are often evaluated based on their performance on a hold out test set, Numerai evaluates models based only on their <ins>live performance</ins> in the real stock market.\n",
    "\n",
    "To participate in the tournament, your model must submit predictions on live features released every day constructed with the latest stock market data where the target values are unknown as they describe future returns. Once the returns and targets become known, your model will recieve live scores that make up your model's live performance.\n",
    "\n",
    "Here is the basic flow of how to make a single live submission:"
   ]
  },
  {
   "cell_type": "code",
   "execution_count": 40,
   "metadata": {},
   "outputs": [
    {
     "name": "stderr",
     "output_type": "stream",
     "text": [
      "2023-04-17 16:08:55,261 INFO numerapi.utils: target file already exists\n",
      "2023-04-17 16:08:55,262 INFO numerapi.utils: download complete\n"
     ]
    },
    {
     "data": {
      "text/html": [
       "<div>\n",
       "<style scoped>\n",
       "    .dataframe tbody tr th:only-of-type {\n",
       "        vertical-align: middle;\n",
       "    }\n",
       "\n",
       "    .dataframe tbody tr th {\n",
       "        vertical-align: top;\n",
       "    }\n",
       "\n",
       "    .dataframe thead th {\n",
       "        text-align: right;\n",
       "    }\n",
       "</style>\n",
       "<table border=\"1\" class=\"dataframe\">\n",
       "  <thead>\n",
       "    <tr style=\"text-align: right;\">\n",
       "      <th></th>\n",
       "      <th>prediction</th>\n",
       "    </tr>\n",
       "    <tr>\n",
       "      <th>id</th>\n",
       "      <th></th>\n",
       "    </tr>\n",
       "  </thead>\n",
       "  <tbody>\n",
       "    <tr>\n",
       "      <th>n0005acb3f491673</th>\n",
       "      <td>0.513076</td>\n",
       "    </tr>\n",
       "    <tr>\n",
       "      <th>n0010ad54d91b603</th>\n",
       "      <td>0.506304</td>\n",
       "    </tr>\n",
       "    <tr>\n",
       "      <th>n00111241e8d98e2</th>\n",
       "      <td>0.490722</td>\n",
       "    </tr>\n",
       "    <tr>\n",
       "      <th>n0022ed91c27e3d8</th>\n",
       "      <td>0.503391</td>\n",
       "    </tr>\n",
       "    <tr>\n",
       "      <th>n00586f061b5ba2b</th>\n",
       "      <td>0.488614</td>\n",
       "    </tr>\n",
       "    <tr>\n",
       "      <th>...</th>\n",
       "      <td>...</td>\n",
       "    </tr>\n",
       "    <tr>\n",
       "      <th>nffdcb9d61c1b421</th>\n",
       "      <td>0.506940</td>\n",
       "    </tr>\n",
       "    <tr>\n",
       "      <th>nfff177f4c94b4a5</th>\n",
       "      <td>0.506230</td>\n",
       "    </tr>\n",
       "    <tr>\n",
       "      <th>nfff45d84a929a83</th>\n",
       "      <td>0.499324</td>\n",
       "    </tr>\n",
       "    <tr>\n",
       "      <th>nfff7040179e85d0</th>\n",
       "      <td>0.502208</td>\n",
       "    </tr>\n",
       "    <tr>\n",
       "      <th>nfffb687bb62a260</th>\n",
       "      <td>0.502881</td>\n",
       "    </tr>\n",
       "  </tbody>\n",
       "</table>\n",
       "<p>4966 rows × 1 columns</p>\n",
       "</div>"
      ],
      "text/plain": [
       "                  prediction\n",
       "id                          \n",
       "n0005acb3f491673    0.513076\n",
       "n0010ad54d91b603    0.506304\n",
       "n00111241e8d98e2    0.490722\n",
       "n0022ed91c27e3d8    0.503391\n",
       "n00586f061b5ba2b    0.488614\n",
       "...                      ...\n",
       "nffdcb9d61c1b421    0.506940\n",
       "nfff177f4c94b4a5    0.506230\n",
       "nfff45d84a929a83    0.499324\n",
       "nfff7040179e85d0    0.502208\n",
       "nfffb687bb62a260    0.502881\n",
       "\n",
       "[4966 rows x 1 columns]"
      ]
     },
     "execution_count": 40,
     "metadata": {},
     "output_type": "execute_result"
    }
   ],
   "source": [
    "# Download latest live features\n",
    "napi.download_dataset(\"v4.1/live.parquet\");\n",
    "\n",
    "# Load live features\n",
    "live_features = pd.read_parquet(\"v4.1/live.parquet\", columns=feature_cols)\n",
    "\n",
    "# Generate live predictions\n",
    "live_predictions = model.predict(live_features[feature_cols])\n",
    "\n",
    "# Format submission\n",
    "submission = pd.Series(live_predictions, index=live_features.index).to_frame(\"prediction\")\n",
    "submission"
   ]
  },
  {
   "attachments": {},
   "cell_type": "markdown",
   "metadata": {},
   "source": [
    "The easiest way to make live submissions every day is to <ins>upload your entire model pipeline</ins> to Numerai and let us take care of running it daily. This service is free and we support most frameworks like scikit-learn, pytorch, tensorflow etc and is highly recommended to all new users. \n",
    "\n",
    "If you don't want to upload your model, you can also choose to setup your own infrastructure to host your model and integrate with our API via webhook or cron. \n",
    "\n",
    "In this example we will choose the easy way and upload our model. Here is how you can pickle your model into a file that can be uploaded to Numerai. "
   ]
  },
  {
   "cell_type": "code",
   "execution_count": 41,
   "metadata": {},
   "outputs": [],
   "source": [
    "# Define any function that takes live features and returns live predictions\n",
    "def predict(live_features):\n",
    "    live_predictions = model.predict(live_features[feature_cols])\n",
    "    submission = pd.Series(live_predictions, index=live_features.index)\n",
    "    return submission.to_frame(\"prediction\")\n",
    "\n",
    "# Use the cloudpickle library to serialize your function and its dependencies\n",
    "import cloudpickle\n",
    "p = cloudpickle.dumps(predict)\n",
    "with open(\"predict.pkl\", \"wb\") as f:\n",
    "    f.write(p)"
   ]
  },
  {
   "cell_type": "code",
   "execution_count": 42,
   "metadata": {},
   "outputs": [],
   "source": [
    "# Download the model file if running in Google Colab\n",
    "try:\n",
    "  from google.colab import files\n",
    "  files.download('predict.pkl')\n",
    "except:\n",
    "  pass"
   ]
  },
  {
   "attachments": {},
   "cell_type": "markdown",
   "metadata": {},
   "source": [
    "That's it! Now head back to [numer.ai](numer.ai) to upload your model! "
   ]
  }
 ],
 "metadata": {
  "kernelspec": {
   "display_name": ".venv",
   "language": "python",
   "name": "python3"
  },
  "language_info": {
   "codemirror_mode": {
    "name": "ipython",
    "version": 3
   },
   "file_extension": ".py",
   "mimetype": "text/x-python",
   "name": "python",
   "nbconvert_exporter": "python",
   "pygments_lexer": "ipython3",
   "version": "3.11.2"
  },
  "orig_nbformat": 4
 },
 "nbformat": 4,
 "nbformat_minor": 2
}
