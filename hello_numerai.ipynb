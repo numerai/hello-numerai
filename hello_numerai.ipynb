{
 "cells": [
  {
   "cell_type": "markdown",
   "metadata": {},
   "source": [
    "# Hello Numerai\n",
    "\n",
    "<div style=\"text-align:center;\">\n",
    "<img src=\"https://1574901745-files.gitbook.io/~/files/v0/b/gitbook-legacy-files/o/spaces%2F-LmGruQ_-ZYj9XMQUd5x%2Favatar.png?generation=1578434196951433&alt=media\" width=\"100\" />\n",
    "</div>\n",
    "    \n",
    "<br/>\n",
    "\n",
    "In this notebook we will go through the basics of the tournament. Our goal is to get **your first model** set up to start competing in the tournament as quickly as possible. \n",
    "<img src=\"assets/hello-numerai-title.svg\" />"
   ]
  },
  {
   "cell_type": "code",
   "execution_count": 1,
   "metadata": {},
   "outputs": [],
   "source": [
    "# Install dependencies\n",
    "!pip install -q numerapi pandas matplotlib lightgbm cloudpickle pyarrow"
   ]
  },
  {
   "cell_type": "markdown",
   "metadata": {},
   "source": [
    "## 1. Dataset  \n",
    "\n",
    "Let's download the dataset and get familar with its basic structure. \n"
   ]
  },
  {
   "cell_type": "code",
   "execution_count": 2,
   "metadata": {},
   "outputs": [
    {
     "data": {
      "text/plain": [
       "['v4.1/features.json',\n",
       " 'v4.1/live.parquet',\n",
       " 'v4.1/live_example_preds.csv',\n",
       " 'v4.1/live_example_preds.parquet',\n",
       " 'v4.1/live_int8.parquet',\n",
       " 'v4.1/meta_model.parquet',\n",
       " 'v4.1/train.parquet',\n",
       " 'v4.1/train_int8.parquet',\n",
       " 'v4.1/validation.parquet',\n",
       " 'v4.1/validation_example_preds.csv',\n",
       " 'v4.1/validation_example_preds.parquet',\n",
       " 'v4.1/validation_int8.parquet']"
      ]
     },
     "execution_count": 2,
     "metadata": {},
     "output_type": "execute_result"
    }
   ],
   "source": [
    "# Numerai API is the official Python API client for Numerai\n",
    "# We will be using it to download the dataset\n",
    "from numerapi import NumerAPI\n",
    "napi = NumerAPI()\n",
    "\n",
    "# v4.1 is the latest version of the dataset\n",
    "# Let's see what files are available for download\n",
    "[f for f in napi.list_datasets() if f.startswith(\"v4.1\")]"
   ]
  },
  {
   "cell_type": "markdown",
   "metadata": {},
   "source": [
    "In this example, we will focus on the following files:\n",
    "- `features.json`: feature metadata\n",
    "- `train.parquet`: historical data for training our model\n",
    "- `live.parquet`: live features for making live submissions"
   ]
  },
  {
   "cell_type": "code",
   "execution_count": 3,
   "metadata": {},
   "outputs": [
    {
     "name": "stderr",
     "output_type": "stream",
     "text": [
      "2023-05-10 15:44:05,780 INFO numerapi.utils: target file already exists\n",
      "2023-05-10 15:44:05,781 INFO numerapi.utils: download complete\n",
      "2023-05-10 15:44:06,225 INFO numerapi.utils: target file already exists\n",
      "2023-05-10 15:44:06,225 INFO numerapi.utils: download complete\n"
     ]
    },
    {
     "data": {
      "text/html": [
       "<div>\n",
       "<style scoped>\n",
       "    .dataframe tbody tr th:only-of-type {\n",
       "        vertical-align: middle;\n",
       "    }\n",
       "\n",
       "    .dataframe tbody tr th {\n",
       "        vertical-align: top;\n",
       "    }\n",
       "\n",
       "    .dataframe thead th {\n",
       "        text-align: right;\n",
       "    }\n",
       "</style>\n",
       "<table border=\"1\" class=\"dataframe\">\n",
       "  <thead>\n",
       "    <tr style=\"text-align: right;\">\n",
       "      <th></th>\n",
       "      <th>era</th>\n",
       "      <th>feature_bijou_penetrant_syringa</th>\n",
       "      <th>...</th>\n",
       "      <th>feature_unventilated_sollar_bason</th>\n",
       "      <th>target</th>\n",
       "    </tr>\n",
       "    <tr>\n",
       "      <th>id</th>\n",
       "      <th></th>\n",
       "      <th></th>\n",
       "      <th></th>\n",
       "      <th></th>\n",
       "      <th></th>\n",
       "    </tr>\n",
       "  </thead>\n",
       "  <tbody>\n",
       "    <tr>\n",
       "      <th>n003bba8a98662e4</th>\n",
       "      <td>0001</td>\n",
       "      <td>0.00</td>\n",
       "      <td>...</td>\n",
       "      <td>0.00</td>\n",
       "      <td>0.25</td>\n",
       "    </tr>\n",
       "    <tr>\n",
       "      <th>n003bee128c2fcfc</th>\n",
       "      <td>0001</td>\n",
       "      <td>0.50</td>\n",
       "      <td>...</td>\n",
       "      <td>0.25</td>\n",
       "      <td>0.75</td>\n",
       "    </tr>\n",
       "    <tr>\n",
       "      <th>n0048ac83aff7194</th>\n",
       "      <td>0001</td>\n",
       "      <td>0.25</td>\n",
       "      <td>...</td>\n",
       "      <td>1.00</td>\n",
       "      <td>0.50</td>\n",
       "    </tr>\n",
       "    <tr>\n",
       "      <th>n00691bec80d3e02</th>\n",
       "      <td>0001</td>\n",
       "      <td>0.75</td>\n",
       "      <td>...</td>\n",
       "      <td>0.75</td>\n",
       "      <td>0.75</td>\n",
       "    </tr>\n",
       "    <tr>\n",
       "      <th>n00b8720a2fdc4f2</th>\n",
       "      <td>0001</td>\n",
       "      <td>0.00</td>\n",
       "      <td>...</td>\n",
       "      <td>0.00</td>\n",
       "      <td>0.75</td>\n",
       "    </tr>\n",
       "    <tr>\n",
       "      <th>...</th>\n",
       "      <td>...</td>\n",
       "      <td>...</td>\n",
       "      <td>...</td>\n",
       "      <td>...</td>\n",
       "      <td>...</td>\n",
       "    </tr>\n",
       "    <tr>\n",
       "      <th>nffcc1dbdf2212e6</th>\n",
       "      <td>0574</td>\n",
       "      <td>1.00</td>\n",
       "      <td>...</td>\n",
       "      <td>1.00</td>\n",
       "      <td>0.75</td>\n",
       "    </tr>\n",
       "    <tr>\n",
       "      <th>nffd71b7f6a128df</th>\n",
       "      <td>0574</td>\n",
       "      <td>0.75</td>\n",
       "      <td>...</td>\n",
       "      <td>0.50</td>\n",
       "      <td>0.00</td>\n",
       "    </tr>\n",
       "    <tr>\n",
       "      <th>nffde3b371d67394</th>\n",
       "      <td>0574</td>\n",
       "      <td>0.75</td>\n",
       "      <td>...</td>\n",
       "      <td>1.00</td>\n",
       "      <td>0.25</td>\n",
       "    </tr>\n",
       "    <tr>\n",
       "      <th>nfff1a1111b35e84</th>\n",
       "      <td>0574</td>\n",
       "      <td>0.25</td>\n",
       "      <td>...</td>\n",
       "      <td>0.00</td>\n",
       "      <td>0.50</td>\n",
       "    </tr>\n",
       "    <tr>\n",
       "      <th>nfff2bd38e397265</th>\n",
       "      <td>0574</td>\n",
       "      <td>1.00</td>\n",
       "      <td>...</td>\n",
       "      <td>1.00</td>\n",
       "      <td>0.75</td>\n",
       "    </tr>\n",
       "  </tbody>\n",
       "</table>\n",
       "<p>2420521 rows × 34 columns</p>\n",
       "</div>"
      ],
      "text/plain": [
       "                   era  feature_bijou_penetrant_syringa  ...   \n",
       "id                                                       ...   \n",
       "n003bba8a98662e4  0001                             0.00  ...  \\\n",
       "n003bee128c2fcfc  0001                             0.50  ...   \n",
       "n0048ac83aff7194  0001                             0.25  ...   \n",
       "n00691bec80d3e02  0001                             0.75  ...   \n",
       "n00b8720a2fdc4f2  0001                             0.00  ...   \n",
       "...                ...                              ...  ...   \n",
       "nffcc1dbdf2212e6  0574                             1.00  ...   \n",
       "nffd71b7f6a128df  0574                             0.75  ...   \n",
       "nffde3b371d67394  0574                             0.75  ...   \n",
       "nfff1a1111b35e84  0574                             0.25  ...   \n",
       "nfff2bd38e397265  0574                             1.00  ...   \n",
       "\n",
       "                  feature_unventilated_sollar_bason  target  \n",
       "id                                                           \n",
       "n003bba8a98662e4                               0.00    0.25  \n",
       "n003bee128c2fcfc                               0.25    0.75  \n",
       "n0048ac83aff7194                               1.00    0.50  \n",
       "n00691bec80d3e02                               0.75    0.75  \n",
       "n00b8720a2fdc4f2                               0.00    0.75  \n",
       "...                                             ...     ...  \n",
       "nffcc1dbdf2212e6                               1.00    0.75  \n",
       "nffd71b7f6a128df                               0.50    0.00  \n",
       "nffde3b371d67394                               1.00    0.25  \n",
       "nfff1a1111b35e84                               0.00    0.50  \n",
       "nfff2bd38e397265                               1.00    0.75  \n",
       "\n",
       "[2420521 rows x 34 columns]"
      ]
     },
     "execution_count": 3,
     "metadata": {},
     "output_type": "execute_result"
    }
   ],
   "source": [
    "import pandas as pd\n",
    "import json\n",
    "\n",
    "# Download the training data and feature metadata files\n",
    "# This will take about 1 minute 🍵\n",
    "napi.download_dataset(\"v4.1/train.parquet\");\n",
    "napi.download_dataset(\"v4.1/features.json\");\n",
    "\n",
    "# The feature metadata file contains a lot of useful information about the features\n",
    "# In particular, it defines a \"small\" feature set that is useful for training smaller models\n",
    "# In this example, we will be using the \"small\" feature set to save time and memory \n",
    "# In practice, you will probably want to use all the features to maximize your model's performance\n",
    "feature_metadata = json.load(open(\"v4.1/features.json\")) \n",
    "feature_cols = feature_metadata[\"feature_sets\"][\"small\"]\n",
    "\n",
    "# Load the training data but only the \"small\" subset of features\n",
    "training_data = pd.read_parquet(\"v4.1/train.parquet\", columns= [\"era\"] + feature_cols + [\"target\"]) \n",
    "\n",
    "# Let's take a look at the training data\n",
    "# We limit the number of rows and columns displayed to make it easier to read\n",
    "pd.set_option('display.max_rows', 10)\n",
    "pd.set_option('display.max_columns', 5)\n",
    "training_data"
   ]
  },
  {
   "cell_type": "markdown",
   "metadata": {},
   "source": [
    "At a high level, each row represents a stock on a specific date.\n",
    "\n",
    "\n",
    "| Dataset Column     | Explanation                                                                                                                                                                                                        \n",
    "| -: |:-  \n",
    "| `id` | obfuscated stock_id + era, unique across the dataset (ex. TSLA at era=21)                                                                                                                                     \n",
    "| `era`      | obfuscated date, chronological and each one week apart (eg. Friday Jan 31 2020)                                                                                                                               \n",
    "| `features` | obfuscated stock features known on the date (eg. P/E ratio)                                                                                                                                                   \n",
    "| `target`   | 20 day subsequent stock-specific return of the stock (eg. 20 day return relative to US auto sector). We ignore the first two days of stock-specific return and aggregate beginning the 3rd day from the date.\n",
    "\n",
    "The Numerai dataset is obfuscated so that we can give it out for free. But don't worry - you won't need to know any of the obfuscated financial details of this dataset to work with it. The dataset has been meticulously cleaned and regularized, and ready to be used right away."
   ]
  },
  {
   "cell_type": "code",
   "execution_count": 4,
   "metadata": {},
   "outputs": [],
   "source": [
    "# Make our plots pretty\n",
    "import matplotlib.pyplot as plt\n",
    "plt.style.use(\"seaborn-v0_8-whitegrid\")"
   ]
  },
  {
   "cell_type": "code",
   "execution_count": 5,
   "metadata": {},
   "outputs": [
    {
     "data": {
      "image/png": "[encoded data removed]",
      "text/plain": [
       "<Figure size 500x300 with 1 Axes>"
      ]
     },
     "metadata": {},
     "output_type": "display_data"
    }
   ],
   "source": [
    "# Let's plot the number of rows per era\n",
    "# This corresponds to the number stocks in Numerai's investable universe over time\n",
    "training_data.groupby(\"era\").size().plot(title=\"Number of Rows per Era\", figsize=(5, 3), xlabel=\"Era\");"
   ]
  },
  {
   "cell_type": "code",
   "execution_count": 6,
   "metadata": {},
   "outputs": [
    {
     "data": {
      "image/png": "[encoded data removed]",
      "text/plain": [
       "<Figure size 500x300 with 1 Axes>"
      ]
     },
     "metadata": {},
     "output_type": "display_data"
    }
   ],
   "source": [
    "# Feature values are all between 0 and 1 and binned into 5 equal bins \n",
    "# Where the values (0, 0.25, 0.5, 0.75, 1.0) map to (0-20%, 20-40%, 40-60%, 60-80%, 80-100%) percentiles\n",
    "training_data[feature_cols[0]].plot(kind=\"hist\", bins=100, density=True, figsize=(5, 3), title=feature_cols[0]);"
   ]
  },
  {
   "cell_type": "code",
   "execution_count": 7,
   "metadata": {},
   "outputs": [
    {
     "data": {
      "image/png": "[encoded data removed]",
      "text/plain": [
       "<Figure size 500x300 with 1 Axes>"
      ]
     },
     "metadata": {},
     "output_type": "display_data"
    }
   ],
   "source": [
    "# The target value is also between 0 and 1 but binned into 5 unequal bins\n",
    "# Where the values (0, 0.25, 0.5, 0.75, 1.0) map to (0-5%, 5-25%, 25-75%, 75-95%, 95-100%) percentiles\n",
    "training_data[\"target\"].plot(kind=\"hist\", bins=100, density=True, figsize=(5, 3), title=\"target\");"
   ]
  },
  {
   "cell_type": "markdown",
   "metadata": {},
   "source": [
    "## 2. Modeling\n",
    "Our task is to train machine learning models on the dataset to predict the target. \n",
    "\n",
    "Here we will be using LightGBM's Regressor as an example but you are free to model this problem using any tool or framework of your choice.\n"
   ]
  },
  {
   "cell_type": "code",
   "execution_count": 8,
   "metadata": {},
   "outputs": [],
   "source": [
    "# LightGBM is a popular gradient boosting library that works well out of the box with Numerai's data\n",
    "# Read more about LGBMRegressor here: https://lightgbm.readthedocs.io/en/latest/pythonapi/lightgbm.LGBMRegressor.html \n",
    "import lightgbm as lgb\n",
    "\n",
    "try: \n",
    "   # Load trained model if it exists\n",
    "   model = lgb.Booster(model_file='small_lgb.txt');\n",
    "except lgb.basic.LightGBMError:\n",
    "    # Otherwise train and save the model\n",
    "    # This will take about 2 minutes 🍵\n",
    "    model = lgb.LGBMRegressor(\n",
    "      n_estimators=2000,\n",
    "      learning_rate=0.01,\n",
    "      max_depth=5,\n",
    "      num_leaves=2 ** 5,\n",
    "      colsample_bytree=0.1\n",
    "    )\n",
    "    model.fit(\n",
    "      training_data[feature_cols],\n",
    "      training_data[\"target\"]\n",
    "    );\n",
    "    # Save model to disk\n",
    "    model.booster_.save_model(\"small_lgb.txt\");"
   ]
  },
  {
   "cell_type": "markdown",
   "metadata": {},
   "source": [
    "# 3. Submissions\n",
    "Unlike Kaggle competitions where models are often evaluated based on their performance on a hold out test set, Numerai evaluates models based on their <ins>live performance</ins> in the real stock market.\n",
    "\n",
    "To participate in the tournament, your model must submit predictions on live features released every day.   \n",
    "\n",
    "Let's walk through an example of how to make a single live submission."
   ]
  },
  {
   "cell_type": "code",
   "execution_count": 9,
   "metadata": {},
   "outputs": [
    {
     "name": "stderr",
     "output_type": "stream",
     "text": [
      "2023-05-10 15:44:09,346 INFO numerapi.utils: target file already exists\n",
      "2023-05-10 15:44:09,348 INFO numerapi.utils: download complete\n"
     ]
    },
    {
     "data": {
      "text/html": [
       "<div>\n",
       "<style scoped>\n",
       "    .dataframe tbody tr th:only-of-type {\n",
       "        vertical-align: middle;\n",
       "    }\n",
       "\n",
       "    .dataframe tbody tr th {\n",
       "        vertical-align: top;\n",
       "    }\n",
       "\n",
       "    .dataframe thead th {\n",
       "        text-align: right;\n",
       "    }\n",
       "</style>\n",
       "<table border=\"1\" class=\"dataframe\">\n",
       "  <thead>\n",
       "    <tr style=\"text-align: right;\">\n",
       "      <th></th>\n",
       "      <th>prediction</th>\n",
       "    </tr>\n",
       "    <tr>\n",
       "      <th>id</th>\n",
       "      <th></th>\n",
       "    </tr>\n",
       "  </thead>\n",
       "  <tbody>\n",
       "    <tr>\n",
       "      <th>n0005b3efea34a10</th>\n",
       "      <td>0.499191</td>\n",
       "    </tr>\n",
       "    <tr>\n",
       "      <th>n0022a796515081e</th>\n",
       "      <td>0.508909</td>\n",
       "    </tr>\n",
       "    <tr>\n",
       "      <th>n0025166fbe7d459</th>\n",
       "      <td>0.510565</td>\n",
       "    </tr>\n",
       "    <tr>\n",
       "      <th>n0027fecec9aa02d</th>\n",
       "      <td>0.495016</td>\n",
       "    </tr>\n",
       "    <tr>\n",
       "      <th>n0039c511be7fe49</th>\n",
       "      <td>0.488603</td>\n",
       "    </tr>\n",
       "    <tr>\n",
       "      <th>...</th>\n",
       "      <td>...</td>\n",
       "    </tr>\n",
       "    <tr>\n",
       "      <th>nffd0d5b086c3d06</th>\n",
       "      <td>0.488173</td>\n",
       "    </tr>\n",
       "    <tr>\n",
       "      <th>nffd592edbe1f79f</th>\n",
       "      <td>0.504655</td>\n",
       "    </tr>\n",
       "    <tr>\n",
       "      <th>nffd5c24a573721b</th>\n",
       "      <td>0.508274</td>\n",
       "    </tr>\n",
       "    <tr>\n",
       "      <th>nffd757d5de69377</th>\n",
       "      <td>0.498374</td>\n",
       "    </tr>\n",
       "    <tr>\n",
       "      <th>nffd972e558a0444</th>\n",
       "      <td>0.519552</td>\n",
       "    </tr>\n",
       "  </tbody>\n",
       "</table>\n",
       "<p>4956 rows × 1 columns</p>\n",
       "</div>"
      ],
      "text/plain": [
       "                  prediction\n",
       "id                          \n",
       "n0005b3efea34a10    0.499191\n",
       "n0022a796515081e    0.508909\n",
       "n0025166fbe7d459    0.510565\n",
       "n0027fecec9aa02d    0.495016\n",
       "n0039c511be7fe49    0.488603\n",
       "...                      ...\n",
       "nffd0d5b086c3d06    0.488173\n",
       "nffd592edbe1f79f    0.504655\n",
       "nffd5c24a573721b    0.508274\n",
       "nffd757d5de69377    0.498374\n",
       "nffd972e558a0444    0.519552\n",
       "\n",
       "[4956 rows x 1 columns]"
      ]
     },
     "execution_count": 9,
     "metadata": {},
     "output_type": "execute_result"
    }
   ],
   "source": [
    "# Check the current round number \n",
    "current_round_number = napi.get_current_round()\n",
    "\n",
    "# Download latest live features for the current round number \n",
    "napi.download_dataset(\"v4/live.parquet\", f\"v4/live_{current_round_number}.parquet\")\n",
    "\n",
    "# Load live features\n",
    "live_features = pd.read_parquet(f\"v4/live_{current_round_number}.parquet\", columns=feature_cols)\n",
    "\n",
    "# Generate live predictions with our trained model\n",
    "live_predictions = model.predict(live_features[feature_cols])\n",
    "\n",
    "# Format submission\n",
    "submission = pd.Series(live_predictions, index=live_features.index).to_frame(\"prediction\")\n",
    "submission"
   ]
  },
  {
   "cell_type": "markdown",
   "metadata": {},
   "source": [
    "The next step is to setup automation to run this pipeline every day. The easiest way to achieve this is to <ins>upload your prediction pipeline</ins> to Numerai and let us take care of running it daily. If you wish, you may also setup your own infrastructure to automate your prediction pipeline and integrate with Numerai's submission API. But this is an advanced topic that we will skip over for now. For this example, let's choose the easy path and upload our pipeline to Numerai.\n",
    "\n",
    "At a high level, this is how uploading your pipeline works\n",
    "1. You define your prediction pipeline as a python function that takes live features and outputs live predictions\n",
    "2. You pickle your function using the `cloudpickle` library and upload that file to Numerai\n",
    "3. Numerai will take care of running your prediction pipeline every day moving forward in our managed exection environment\n",
    "\n",
    "The [cloudpickle](https://github.com/cloudpipe/cloudpickle) library is used by many large ML orchestration frameworks like [Dask](https://distributed.dask.org/en/stable/serialization.html) and [Ray](https://docs.ray.io/en/latest/ray-core/objects/serialization.html) to flexibly deploy ML workloads to remote execution environments. From the cloudpickle docs: \"An important difference between cloudpickle and pickle is that cloudpickle can serialize a function or class <ins>by value</ins>, whereas pickle can only serialize it <ins>by reference</ins>.\" Here we will make use of the <ins>serialization by value</ins> feature to help us pickle our entire prediction pipeline (and not just the model itself).\n",
    "\n",
    "Things to be aware of when pickling model pipelines\n",
    "- You can safely reference any global variables (e.g. model and feature_cols) and they will be included in the pickled function\n",
    "- You can safely reference most common ML libraries here (e.g. pandas, numpy, sklearn, etc.) that comes pre-installed in our managed execution environment\n",
    "- You will have no access to the network or disk, so your function must be self-contained \n",
    "- Your model pipeline must complete running within 60 minutes"
   ]
  },
  {
   "cell_type": "code",
   "execution_count": 10,
   "metadata": {},
   "outputs": [],
   "source": [
    "# Define any function that takes live features and returns live predictions\n",
    "def predict(live_features: pd.DataFrame) -> pd.DataFrame:\n",
    "    live_predictions = model.predict(live_features[feature_cols])\n",
    "    submission = pd.Series(live_predictions, index=live_features.index)\n",
    "    return submission.to_frame(\"prediction\")\n",
    "\n",
    "# Use the cloudpickle library to serialize your function and its dependencies\n",
    "import cloudpickle\n",
    "p = cloudpickle.dumps(predict)\n",
    "with open(\"predict.pkl\", \"wb\") as f:\n",
    "    f.write(p)"
   ]
  },
  {
   "cell_type": "code",
   "execution_count": 11,
   "metadata": {},
   "outputs": [],
   "source": [
    "# Download the model file if running in Google Colab\n",
    "try:\n",
    "    from google.colab import files\n",
    "    files.download('predict.pkl')\n",
    "except:\n",
    "    pass"
   ]
  },
  {
   "cell_type": "markdown",
   "metadata": {},
   "source": [
    "That's it! Now head back to [numer.ai](numer.ai) to upload your model prediction pipeline! "
   ]
  }
 ],
 "metadata": {
  "kernelspec": {
   "display_name": "Python 3 (ipykernel)",
   "language": "python",
   "name": "python3"
  },
  "language_info": {
   "codemirror_mode": {
    "name": "ipython",
    "version": 3
   },
   "file_extension": ".py",
   "mimetype": "text/x-python",
   "name": "python",
   "nbconvert_exporter": "python",
   "pygments_lexer": "ipython3",
   "version": "3.10.11"
  }
 },
 "nbformat": 4,
 "nbformat_minor": 2
}
