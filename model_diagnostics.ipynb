{
 "cells": [
  {
   "attachments": {},
   "cell_type": "markdown",
   "metadata": {},
   "source": [
    "# Model Diagnostics\n",
    "\n",
    "In this notebook we will learn how to evaluate and diagnose model performance. We will run our first experiment and see if we can improve the performance of our model trained in the previous notebook.   \n",
    "\n",
    "1. Performance: measure model performance with `Correlation`  \n",
    "2. Risk: measure model risk with `Sharpe`, `Max Drawdown`, `Feature Exposure` \n",
    "3. Experiment: use `Feature Neutralization` to reduce risk and improve performance"
   ]
  },
  {
   "cell_type": "code",
   "execution_count": 28,
   "metadata": {},
   "outputs": [],
   "source": [
    "# Install dependencies\n",
    "!pip install -q numerapi pandas matplotlib lightgbm pyarrow cloudpickle"
   ]
  },
  {
   "attachments": {},
   "cell_type": "markdown",
   "metadata": {},
   "source": [
    "## Performance\n",
    "\n",
    "Let's use the model we trained in the previous notebook and evaluate its performance with the validation dataset. "
   ]
  },
  {
   "cell_type": "code",
   "execution_count": 29,
   "metadata": {},
   "outputs": [
    {
     "name": "stderr",
     "output_type": "stream",
     "text": [
      "2023-04-26 13:46:55,738 INFO numerapi.utils: target file already exists\n",
      "2023-04-26 13:46:55,739 INFO numerapi.utils: download complete\n",
      "2023-04-26 13:46:56,168 INFO numerapi.utils: target file already exists\n",
      "2023-04-26 13:46:56,169 INFO numerapi.utils: download complete\n"
     ]
    }
   ],
   "source": [
    "from numerapi import NumerAPI\n",
    "napi = NumerAPI()\n",
    "\n",
    "# Let's download the validation dataset and feature metadata\n",
    "# This will take about 2 minutes 🍵\n",
    "napi.download_dataset(\"v4.1/validation.parquet\");\n",
    "napi.download_dataset(\"v4.1/features.json\");"
   ]
  },
  {
   "cell_type": "code",
   "execution_count": 30,
   "metadata": {},
   "outputs": [],
   "source": [
    "import pandas as pd\n",
    "import json\n",
    "\n",
    "# Like before, we will be using the \"small\" feature set to save time and memory\n",
    "feature_metadata = json.load(open(\"v4.1/features.json\")) \n",
    "feature_cols = feature_metadata[\"feature_sets\"][\"small\"]\n",
    "\n",
    "# Load the validation data but only the \"small\" subset of features\n",
    "# This time we also load the \"data_type\" column so that we can filter against it\n",
    "validation_data = pd.read_parquet(\"v4.1/validation.parquet\", columns=[\"era\", \"data_type\"] + feature_cols + [\"target\"]) \n",
    "\n",
    "# Filter for data_type == \"validation\" and drop the \"data_type\" column after as we no longer need it\n",
    "validation_data = validation_data[validation_data[\"data_type\"] == \"validation\"]\n",
    "del validation_data[\"data_type\"]"
   ]
  },
  {
   "cell_type": "code",
   "execution_count": 31,
   "metadata": {},
   "outputs": [
    {
     "data": {
      "text/html": [
       "<div>\n",
       "<style scoped>\n",
       "    .dataframe tbody tr th:only-of-type {\n",
       "        vertical-align: middle;\n",
       "    }\n",
       "\n",
       "    .dataframe tbody tr th {\n",
       "        vertical-align: top;\n",
       "    }\n",
       "\n",
       "    .dataframe thead th {\n",
       "        text-align: right;\n",
       "    }\n",
       "</style>\n",
       "<table border=\"1\" class=\"dataframe\">\n",
       "  <thead>\n",
       "    <tr style=\"text-align: right;\">\n",
       "      <th></th>\n",
       "      <th>era</th>\n",
       "      <th>feature_bijou_penetrant_syringa</th>\n",
       "      <th>...</th>\n",
       "      <th>feature_unventilated_sollar_bason</th>\n",
       "      <th>target</th>\n",
       "    </tr>\n",
       "    <tr>\n",
       "      <th>id</th>\n",
       "      <th></th>\n",
       "      <th></th>\n",
       "      <th></th>\n",
       "      <th></th>\n",
       "      <th></th>\n",
       "    </tr>\n",
       "  </thead>\n",
       "  <tbody>\n",
       "    <tr>\n",
       "      <th>n000101811a8a843</th>\n",
       "      <td>0575</td>\n",
       "      <td>0.25</td>\n",
       "      <td>...</td>\n",
       "      <td>0.75</td>\n",
       "      <td>0.50</td>\n",
       "    </tr>\n",
       "    <tr>\n",
       "      <th>n001e1318d5072ac</th>\n",
       "      <td>0575</td>\n",
       "      <td>0.50</td>\n",
       "      <td>...</td>\n",
       "      <td>0.75</td>\n",
       "      <td>0.00</td>\n",
       "    </tr>\n",
       "    <tr>\n",
       "      <th>n002a9c5ab785cbb</th>\n",
       "      <td>0575</td>\n",
       "      <td>0.25</td>\n",
       "      <td>...</td>\n",
       "      <td>0.25</td>\n",
       "      <td>0.50</td>\n",
       "    </tr>\n",
       "    <tr>\n",
       "      <th>n002ccf6d0e8c5ad</th>\n",
       "      <td>0575</td>\n",
       "      <td>0.25</td>\n",
       "      <td>...</td>\n",
       "      <td>0.00</td>\n",
       "      <td>0.25</td>\n",
       "    </tr>\n",
       "    <tr>\n",
       "      <th>n0051ab821295c29</th>\n",
       "      <td>0575</td>\n",
       "      <td>1.00</td>\n",
       "      <td>...</td>\n",
       "      <td>1.00</td>\n",
       "      <td>0.50</td>\n",
       "    </tr>\n",
       "    <tr>\n",
       "      <th>...</th>\n",
       "      <td>...</td>\n",
       "      <td>...</td>\n",
       "      <td>...</td>\n",
       "      <td>...</td>\n",
       "      <td>...</td>\n",
       "    </tr>\n",
       "    <tr>\n",
       "      <th>nffb8aae0a11ec68</th>\n",
       "      <td>1054</td>\n",
       "      <td>0.50</td>\n",
       "      <td>...</td>\n",
       "      <td>1.00</td>\n",
       "      <td>0.75</td>\n",
       "    </tr>\n",
       "    <tr>\n",
       "      <th>nffd34b1e7d9fee9</th>\n",
       "      <td>1054</td>\n",
       "      <td>0.25</td>\n",
       "      <td>...</td>\n",
       "      <td>0.50</td>\n",
       "      <td>0.75</td>\n",
       "    </tr>\n",
       "    <tr>\n",
       "      <th>nffe5b20d83070b0</th>\n",
       "      <td>1054</td>\n",
       "      <td>0.00</td>\n",
       "      <td>...</td>\n",
       "      <td>0.25</td>\n",
       "      <td>0.00</td>\n",
       "    </tr>\n",
       "    <tr>\n",
       "      <th>nffee6b0c5d2915c</th>\n",
       "      <td>1054</td>\n",
       "      <td>1.00</td>\n",
       "      <td>...</td>\n",
       "      <td>0.50</td>\n",
       "      <td>0.00</td>\n",
       "    </tr>\n",
       "    <tr>\n",
       "      <th>nfffca78e9f47012</th>\n",
       "      <td>1054</td>\n",
       "      <td>0.75</td>\n",
       "      <td>...</td>\n",
       "      <td>0.50</td>\n",
       "      <td>0.50</td>\n",
       "    </tr>\n",
       "  </tbody>\n",
       "</table>\n",
       "<p>2451782 rows × 34 columns</p>\n",
       "</div>"
      ],
      "text/plain": [
       "                   era  feature_bijou_penetrant_syringa  ...   \n",
       "id                                                       ...   \n",
       "n000101811a8a843  0575                             0.25  ...  \\\n",
       "n001e1318d5072ac  0575                             0.50  ...   \n",
       "n002a9c5ab785cbb  0575                             0.25  ...   \n",
       "n002ccf6d0e8c5ad  0575                             0.25  ...   \n",
       "n0051ab821295c29  0575                             1.00  ...   \n",
       "...                ...                              ...  ...   \n",
       "nffb8aae0a11ec68  1054                             0.50  ...   \n",
       "nffd34b1e7d9fee9  1054                             0.25  ...   \n",
       "nffe5b20d83070b0  1054                             0.00  ...   \n",
       "nffee6b0c5d2915c  1054                             1.00  ...   \n",
       "nfffca78e9f47012  1054                             0.75  ...   \n",
       "\n",
       "                  feature_unventilated_sollar_bason  target  \n",
       "id                                                           \n",
       "n000101811a8a843                               0.75    0.50  \n",
       "n001e1318d5072ac                               0.75    0.00  \n",
       "n002a9c5ab785cbb                               0.25    0.50  \n",
       "n002ccf6d0e8c5ad                               0.00    0.25  \n",
       "n0051ab821295c29                               1.00    0.50  \n",
       "...                                             ...     ...  \n",
       "nffb8aae0a11ec68                               1.00    0.75  \n",
       "nffd34b1e7d9fee9                               0.50    0.75  \n",
       "nffe5b20d83070b0                               0.25    0.00  \n",
       "nffee6b0c5d2915c                               0.50    0.00  \n",
       "nfffca78e9f47012                               0.50    0.50  \n",
       "\n",
       "[2451782 rows x 34 columns]"
      ]
     },
     "execution_count": 31,
     "metadata": {},
     "output_type": "execute_result"
    }
   ],
   "source": [
    "# The structure of the validation dataset is the same as the training dataset\n",
    "# Notice the eras pick up where the training dataset eras left off\n",
    "# This is because the validation dataset is a continuation of the training dataset\n",
    "pd.set_option('display.max_rows', 10)\n",
    "pd.set_option('display.max_columns', 5)\n",
    "validation_data"
   ]
  },
  {
   "cell_type": "code",
   "execution_count": 32,
   "metadata": {},
   "outputs": [],
   "source": [
    "import lightgbm as lgb\n",
    "\n",
    "# Let's load the model we trained in the previous notebook\n",
    "# If you are getting an error here, make sure you have run the previous notebook first!\n",
    "model = lgb.Booster(model_file='small_lgb.txt')\n",
    "\n",
    "# And make predictions against the validation features\n",
    "# This will take about 2 minutes 🍵\n",
    "predictions = model.predict(validation_data[feature_cols])"
   ]
  },
  {
   "cell_type": "code",
   "execution_count": 33,
   "metadata": {},
   "outputs": [
    {
     "data": {
      "text/html": [
       "<div>\n",
       "<style scoped>\n",
       "    .dataframe tbody tr th:only-of-type {\n",
       "        vertical-align: middle;\n",
       "    }\n",
       "\n",
       "    .dataframe tbody tr th {\n",
       "        vertical-align: top;\n",
       "    }\n",
       "\n",
       "    .dataframe thead th {\n",
       "        text-align: right;\n",
       "    }\n",
       "</style>\n",
       "<table border=\"1\" class=\"dataframe\">\n",
       "  <thead>\n",
       "    <tr style=\"text-align: right;\">\n",
       "      <th></th>\n",
       "      <th>era</th>\n",
       "      <th>prediction</th>\n",
       "      <th>target</th>\n",
       "    </tr>\n",
       "    <tr>\n",
       "      <th>id</th>\n",
       "      <th></th>\n",
       "      <th></th>\n",
       "      <th></th>\n",
       "    </tr>\n",
       "  </thead>\n",
       "  <tbody>\n",
       "    <tr>\n",
       "      <th>n000101811a8a843</th>\n",
       "      <td>0575</td>\n",
       "      <td>0.483958</td>\n",
       "      <td>0.50</td>\n",
       "    </tr>\n",
       "    <tr>\n",
       "      <th>n001e1318d5072ac</th>\n",
       "      <td>0575</td>\n",
       "      <td>0.494990</td>\n",
       "      <td>0.00</td>\n",
       "    </tr>\n",
       "    <tr>\n",
       "      <th>n002a9c5ab785cbb</th>\n",
       "      <td>0575</td>\n",
       "      <td>0.501213</td>\n",
       "      <td>0.50</td>\n",
       "    </tr>\n",
       "    <tr>\n",
       "      <th>n002ccf6d0e8c5ad</th>\n",
       "      <td>0575</td>\n",
       "      <td>0.507834</td>\n",
       "      <td>0.25</td>\n",
       "    </tr>\n",
       "    <tr>\n",
       "      <th>n0051ab821295c29</th>\n",
       "      <td>0575</td>\n",
       "      <td>0.484320</td>\n",
       "      <td>0.50</td>\n",
       "    </tr>\n",
       "    <tr>\n",
       "      <th>...</th>\n",
       "      <td>...</td>\n",
       "      <td>...</td>\n",
       "      <td>...</td>\n",
       "    </tr>\n",
       "    <tr>\n",
       "      <th>nffb8aae0a11ec68</th>\n",
       "      <td>1054</td>\n",
       "      <td>0.496288</td>\n",
       "      <td>0.75</td>\n",
       "    </tr>\n",
       "    <tr>\n",
       "      <th>nffd34b1e7d9fee9</th>\n",
       "      <td>1054</td>\n",
       "      <td>0.496277</td>\n",
       "      <td>0.75</td>\n",
       "    </tr>\n",
       "    <tr>\n",
       "      <th>nffe5b20d83070b0</th>\n",
       "      <td>1054</td>\n",
       "      <td>0.492815</td>\n",
       "      <td>0.00</td>\n",
       "    </tr>\n",
       "    <tr>\n",
       "      <th>nffee6b0c5d2915c</th>\n",
       "      <td>1054</td>\n",
       "      <td>0.493107</td>\n",
       "      <td>0.00</td>\n",
       "    </tr>\n",
       "    <tr>\n",
       "      <th>nfffca78e9f47012</th>\n",
       "      <td>1054</td>\n",
       "      <td>0.495910</td>\n",
       "      <td>0.50</td>\n",
       "    </tr>\n",
       "  </tbody>\n",
       "</table>\n",
       "<p>2451782 rows × 3 columns</p>\n",
       "</div>"
      ],
      "text/plain": [
       "                   era  prediction  target\n",
       "id                                        \n",
       "n000101811a8a843  0575    0.483958    0.50\n",
       "n001e1318d5072ac  0575    0.494990    0.00\n",
       "n002a9c5ab785cbb  0575    0.501213    0.50\n",
       "n002ccf6d0e8c5ad  0575    0.507834    0.25\n",
       "n0051ab821295c29  0575    0.484320    0.50\n",
       "...                ...         ...     ...\n",
       "nffb8aae0a11ec68  1054    0.496288    0.75\n",
       "nffd34b1e7d9fee9  1054    0.496277    0.75\n",
       "nffe5b20d83070b0  1054    0.492815    0.00\n",
       "nffee6b0c5d2915c  1054    0.493107    0.00\n",
       "nfffca78e9f47012  1054    0.495910    0.50\n",
       "\n",
       "[2451782 rows x 3 columns]"
      ]
     },
     "execution_count": 33,
     "metadata": {},
     "output_type": "execute_result"
    }
   ],
   "source": [
    "# Let's take a look at our predictions compared to target values\n",
    "validation_data[\"prediction\"] = predictions\n",
    "validation_data[[\"era\", \"prediction\", \"target\"]]"
   ]
  },
  {
   "attachments": {},
   "cell_type": "markdown",
   "metadata": {},
   "source": [
    "Numerai uses a special correlation metric to evaluate the performance of models. At a high level, this metric is designed to be a good proxy for actual portfolio returns if the predictions were used in live trading.\n",
    "- First the predictions are <ins>gauss ranked</ins>. We do this to match our live trading process where all model predictions are standardized this way before being ensembled together in the meta model.\n",
    "- Then the target is <ins>centered</ins> around 0. We do this to match the guass ranked predictions which are now centered around 0. \n",
    "- Finally both the gauss ranked predictions and the cenetered target are <ins>raised to the power of 1.5</ins> before calculating the Pearson correlation. We do this to accentuate the tails as hedge fund tends to only trade the stocks with highest or lowest predicted returns.\n",
    "\n",
    "The key takeaway here is that your prediction's distribution does not matter. You are only evaluated on your prediction's ranks. And your score depends more on the tails than a typical rank-correlation."
   ]
  },
  {
   "cell_type": "code",
   "execution_count": 34,
   "metadata": {},
   "outputs": [],
   "source": [
    "from scipy import stats\n",
    "import numpy as np\n",
    "\n",
    "# Numerai's primary scoring metric\n",
    "def numerai_corr(preds, target):\n",
    "    # rank (keeping ties) then Gaussianize predictions to standadize prediction distributions \n",
    "    ranked_preds = (preds.rank(method=\"average\").values - 0.5) / preds.count()\n",
    "    gauss_ranked_preds = stats.norm.ppf(ranked_preds)\n",
    "    # center targets around 0 instead of 0.5\n",
    "    centered_target = target - 0.5\n",
    "    # raise both preds and target to the power of 1.5 to accentuate the tails\n",
    "    preds_p15 = np.sign(gauss_ranked_preds) * np.abs(gauss_ranked_preds) ** 1.5 \n",
    "    target_p15 = np.sign(centered_target) * np.abs(target) ** 1.5\n",
    "    # finally return the Pearson correlation\n",
    "    return np.corrcoef(preds_p15, target_p15)[0, 1]"
   ]
  },
  {
   "attachments": {},
   "cell_type": "markdown",
   "metadata": {},
   "source": [
    "Now let's calculate the correlation between our predictions and the target values.\n",
    "\n",
    "We compute all metrics per-era since that is how our live submissions will be evaluated."
   ]
  },
  {
   "cell_type": "code",
   "execution_count": 50,
   "metadata": {},
   "outputs": [
    {
     "data": {
      "image/png": "[encoded data removed]",
      "text/plain": [
       "<Figure size 1000x600 with 1 Axes>"
      ]
     },
     "metadata": {},
     "output_type": "display_data"
    }
   ],
   "source": [
    "# Compute the per-era correlation between our predictions and the target values\n",
    "per_era_validation_correlation = validation_data.groupby(\"era\").apply(lambda x: numerai_corr(x[\"prediction\"], x[\"target\"]))\n",
    "\n",
    "# Plot the per-era correlation\n",
    "per_era_validation_correlation.plot(kind=\"bar\", title=\"Validation Correlation\", figsize=(10, 6), xticks=[]);"
   ]
  },
  {
   "cell_type": "code",
   "execution_count": 36,
   "metadata": {},
   "outputs": [
    {
     "data": {
      "image/png": "[encoded data removed]",
      "text/plain": [
       "<Figure size 1000x600 with 1 Axes>"
      ]
     },
     "metadata": {},
     "output_type": "display_data"
    }
   ],
   "source": [
    "# Another way to visualize our model performance is to look at the cumulative correlation over time\n",
    "# If you have ever seen a backtest of a trading strategy, this is similar but not quite mathematically the same\n",
    "cumulative_per_era_validation_correlation = per_era_validation_correlation.cumsum()\n",
    "\n",
    "# Plot the cumulative correlation\n",
    "cumulative_per_era_validation_correlation.plot(title=\"Cumulative Validation Correlation\", figsize=(10, 6));"
   ]
  },
  {
   "cell_type": "code",
   "execution_count": 37,
   "metadata": {},
   "outputs": [
    {
     "data": {
      "text/plain": [
       "0.020981073102123285"
      ]
     },
     "execution_count": 37,
     "metadata": {},
     "output_type": "execute_result"
    }
   ],
   "source": [
    "# What is the average correlation across all eras?\n",
    "# You should aim for a correlation mean of at least 0.03 to be considered a good model\n",
    "# 0.02 is not great but also not terrible considering we only used the \"small\" feature set\n",
    "correlation_mean = per_era_validation_correlation.mean()\n",
    "correlation_mean"
   ]
  },
  {
   "attachments": {},
   "cell_type": "markdown",
   "metadata": {},
   "source": [
    "## Risk\n",
    "\n",
    "In finance, risk refers to the degree of uncertainty and/or potential for financial loss. In Numerai, risk refers to the degree of uncertainty and/or potential for poor model performance.  \n",
    "\n",
    "There is no single mathematical definition of risk, but there are useful ways for us to talk about the different aspects of it:\n",
    "- `Numerai Sharpe`: a measure of a model's risk-adjusted performance, where risk is modeled as the standard deviation of correlation\n",
    "- `Numerai Max Drawdown`: a measure of the magnitude of a model's worst period of performance, from peak to trough\n",
    "- `Feature Exposure`: a measure of a model's correlation to individual features, which are themselves considered risky    "
   ]
  },
  {
   "cell_type": "code",
   "execution_count": 38,
   "metadata": {},
   "outputs": [
    {
     "data": {
      "text/plain": [
       "0.7277660456735534"
      ]
     },
     "execution_count": 38,
     "metadata": {},
     "output_type": "execute_result"
    }
   ],
   "source": [
    "# Sharp ratio is a common metric in finance used to measure the risk-adjusted performance of an investment strategy\n",
    "# In finance, the Sharpe ratio is computed as the average return minus the risk free rate divided by the standard deviation of the return\n",
    "# The higher the Sharpe ratio, the better and more consistent the investment strategy\n",
    "# In Numerai, we compute the Sharpe ratio as the average correlation divided by the standard deviation of the correlation\n",
    "# You should aim for a Numerai Sharpe ratio of at least 1.0 to be considered a consistent model\n",
    "correlation_std = per_era_validation_correlation.std(ddof=0)\n",
    "numerai_sharpe = correlation_mean / correlation_std\n",
    "numerai_sharpe"
   ]
  },
  {
   "cell_type": "code",
   "execution_count": 39,
   "metadata": {},
   "outputs": [
    {
     "data": {
      "text/plain": [
       "0.3677745910371062"
      ]
     },
     "execution_count": 39,
     "metadata": {},
     "output_type": "execute_result"
    }
   ],
   "source": [
    "# Max drawdown is a common metric in finance used to measure the worst case scenario of an investment strategy\n",
    "# Typically, max drawdown is computed as the difference between the highest peak and lowest trough of the cumulative returns\n",
    "# In Numerai, we compute the max drawdown as the difference between the highest peak and lowest trough of the cumulative correlation\n",
    "# You should aim to minimize the max drawdown of your model but how much you care about this versus maximizing the correlation mean is up to you\n",
    "rolling_max = cumulative_per_era_validation_correlation.expanding(min_periods=1).max()\n",
    "max_drawdown = (rolling_max - cumulative_per_era_validation_correlation).max()\n",
    "max_drawdown"
   ]
  },
  {
   "cell_type": "code",
   "execution_count": 40,
   "metadata": {},
   "outputs": [
    {
     "data": {
      "image/png": "[encoded data removed]",
      "text/plain": [
       "<Figure size 1000x600 with 1 Axes>"
      ]
     },
     "metadata": {},
     "output_type": "display_data"
    }
   ],
   "source": [
    "# Feature exposure is a metric that measures how correlated a model is with any single single feature\n",
    "# Having high correlation with single features is considered risky because individual features are known to be risky\n",
    "max_feature_expposure_per_era = validation_data.groupby(\"era\").apply(lambda d: d[feature_cols].corrwith(d[\"prediction\"]).abs().max())\n",
    "\n",
    "# Plot the max feature exposure per era\n",
    "# The max feature exposure quantifies how exposed your model is to the risk of any single feature\n",
    "max_feature_expposure_per_era.plot(title=\"Max Feature Exposure\", kind=\"bar\", figsize=(10, 6), xticks=[]);"
   ]
  },
  {
   "cell_type": "code",
   "execution_count": 41,
   "metadata": {},
   "outputs": [
    {
     "data": {
      "text/plain": [
       "0.3135921368407573"
      ]
     },
     "execution_count": 41,
     "metadata": {},
     "output_type": "execute_result"
    }
   ],
   "source": [
    "# Mean max feature exposure across eras\n",
    "max_feature_exposure_mean = max_feature_expposure_per_era.mean()\n",
    "max_feature_exposure_mean"
   ]
  },
  {
   "attachments": {},
   "cell_type": "markdown",
   "metadata": {},
   "source": [
    "## Experiment\n",
    "\n",
    "Now that we have learned how to compute the performance and risk metrics, we are ready to run our first experiment.\n",
    "\n",
    "`Feature Neutralization` is a way to reduce `Feature Exposure`. Let's try to neutralize our predictions and see if we can improve our performance."
   ]
  },
  {
   "cell_type": "code",
   "execution_count": 42,
   "metadata": {},
   "outputs": [],
   "source": [
    "# Compute the orthogonal component of the predictions with regards to the feature matrix\n",
    "# Proportion controls how much of the exposure to neutralize, where 1.0 means 100% of the exposure is neutralized\n",
    "def neutralize(predictions, features, proportion=1.0):\n",
    "    # given predictions p and feature matrix F, the orthogonal component p' with regards to F is:\n",
    "    # p' = p - (F dot (F_inverse dot p))\n",
    "    inverse_features = np.linalg.pinv(features.values, rcond=1e-6)\n",
    "    exposure = proportion * features.values.dot(inverse_features.dot(predictions))\n",
    "    return predictions - exposure"
   ]
  },
  {
   "cell_type": "code",
   "execution_count": 43,
   "metadata": {},
   "outputs": [
    {
     "data": {
      "text/html": [
       "<div>\n",
       "<style scoped>\n",
       "    .dataframe tbody tr th:only-of-type {\n",
       "        vertical-align: middle;\n",
       "    }\n",
       "\n",
       "    .dataframe tbody tr th {\n",
       "        vertical-align: top;\n",
       "    }\n",
       "\n",
       "    .dataframe thead th {\n",
       "        text-align: right;\n",
       "    }\n",
       "</style>\n",
       "<table border=\"1\" class=\"dataframe\">\n",
       "  <thead>\n",
       "    <tr style=\"text-align: right;\">\n",
       "      <th></th>\n",
       "      <th>era</th>\n",
       "      <th>prediction</th>\n",
       "      <th>neutral_prediction</th>\n",
       "      <th>target</th>\n",
       "    </tr>\n",
       "    <tr>\n",
       "      <th>id</th>\n",
       "      <th></th>\n",
       "      <th></th>\n",
       "      <th></th>\n",
       "      <th></th>\n",
       "    </tr>\n",
       "  </thead>\n",
       "  <tbody>\n",
       "    <tr>\n",
       "      <th>n000101811a8a843</th>\n",
       "      <td>0575</td>\n",
       "      <td>0.483958</td>\n",
       "      <td>0.073401</td>\n",
       "      <td>0.50</td>\n",
       "    </tr>\n",
       "    <tr>\n",
       "      <th>n001e1318d5072ac</th>\n",
       "      <td>0575</td>\n",
       "      <td>0.494990</td>\n",
       "      <td>-0.038767</td>\n",
       "      <td>0.00</td>\n",
       "    </tr>\n",
       "    <tr>\n",
       "      <th>n002a9c5ab785cbb</th>\n",
       "      <td>0575</td>\n",
       "      <td>0.501213</td>\n",
       "      <td>0.069088</td>\n",
       "      <td>0.50</td>\n",
       "    </tr>\n",
       "    <tr>\n",
       "      <th>n002ccf6d0e8c5ad</th>\n",
       "      <td>0575</td>\n",
       "      <td>0.507834</td>\n",
       "      <td>0.061221</td>\n",
       "      <td>0.25</td>\n",
       "    </tr>\n",
       "    <tr>\n",
       "      <th>n0051ab821295c29</th>\n",
       "      <td>0575</td>\n",
       "      <td>0.484320</td>\n",
       "      <td>0.018759</td>\n",
       "      <td>0.50</td>\n",
       "    </tr>\n",
       "    <tr>\n",
       "      <th>...</th>\n",
       "      <td>...</td>\n",
       "      <td>...</td>\n",
       "      <td>...</td>\n",
       "      <td>...</td>\n",
       "    </tr>\n",
       "    <tr>\n",
       "      <th>nffb8aae0a11ec68</th>\n",
       "      <td>1054</td>\n",
       "      <td>0.496288</td>\n",
       "      <td>0.082000</td>\n",
       "      <td>0.75</td>\n",
       "    </tr>\n",
       "    <tr>\n",
       "      <th>nffd34b1e7d9fee9</th>\n",
       "      <td>1054</td>\n",
       "      <td>0.496277</td>\n",
       "      <td>0.008087</td>\n",
       "      <td>0.75</td>\n",
       "    </tr>\n",
       "    <tr>\n",
       "      <th>nffe5b20d83070b0</th>\n",
       "      <td>1054</td>\n",
       "      <td>0.492815</td>\n",
       "      <td>-0.071625</td>\n",
       "      <td>0.00</td>\n",
       "    </tr>\n",
       "    <tr>\n",
       "      <th>nffee6b0c5d2915c</th>\n",
       "      <td>1054</td>\n",
       "      <td>0.493107</td>\n",
       "      <td>0.036847</td>\n",
       "      <td>0.00</td>\n",
       "    </tr>\n",
       "    <tr>\n",
       "      <th>nfffca78e9f47012</th>\n",
       "      <td>1054</td>\n",
       "      <td>0.495910</td>\n",
       "      <td>0.047919</td>\n",
       "      <td>0.50</td>\n",
       "    </tr>\n",
       "  </tbody>\n",
       "</table>\n",
       "<p>2451782 rows × 4 columns</p>\n",
       "</div>"
      ],
      "text/plain": [
       "                   era  prediction  neutral_prediction  target\n",
       "id                                                            \n",
       "n000101811a8a843  0575    0.483958            0.073401    0.50\n",
       "n001e1318d5072ac  0575    0.494990           -0.038767    0.00\n",
       "n002a9c5ab785cbb  0575    0.501213            0.069088    0.50\n",
       "n002ccf6d0e8c5ad  0575    0.507834            0.061221    0.25\n",
       "n0051ab821295c29  0575    0.484320            0.018759    0.50\n",
       "...                ...         ...                 ...     ...\n",
       "nffb8aae0a11ec68  1054    0.496288            0.082000    0.75\n",
       "nffd34b1e7d9fee9  1054    0.496277            0.008087    0.75\n",
       "nffe5b20d83070b0  1054    0.492815           -0.071625    0.00\n",
       "nffee6b0c5d2915c  1054    0.493107            0.036847    0.00\n",
       "nfffca78e9f47012  1054    0.495910            0.047919    0.50\n",
       "\n",
       "[2451782 rows x 4 columns]"
      ]
     },
     "execution_count": 43,
     "metadata": {},
     "output_type": "execute_result"
    }
   ],
   "source": [
    "# Neutralize predictions per-era againat the features we used for training\n",
    "neutralized_per_era = validation_data.groupby(\"era\").apply(lambda d: neutralize(d[\"prediction\"], d[feature_cols]))\n",
    "\n",
    "# Align the neutralized predictions with the validation data\n",
    "validation_data[\"neutral_prediction\"] = neutralized_per_era.reset_index().set_index(\"id\")[\"prediction\"]\n",
    "validation_data[[\"era\", \"prediction\", \"neutral_prediction\", \"target\"]]"
   ]
  },
  {
   "cell_type": "code",
   "execution_count": 44,
   "metadata": {},
   "outputs": [
    {
     "data": {
      "image/png": "[encoded data removed]",
      "text/plain": [
       "<Figure size 1000x600 with 1 Axes>"
      ]
     },
     "metadata": {},
     "output_type": "display_data"
    }
   ],
   "source": [
    "# Compute the per-era correlation between our neutralized predictions and the target values\n",
    "max_feature_exposure_per_era_neutral = validation_data.groupby(\"era\").apply(lambda d: d[feature_cols].corrwith(d[\"neutral_prediction\"]).abs().max())\n",
    "\n",
    "# Plot the max feature exposure per era before and after neutralization side by side \n",
    "pd.DataFrame({\"before\": max_feature_expposure_per_era, \"after\": max_feature_exposure_per_era_neutral}).plot(title=\"Max Feature Exposure Before and After Neutralization\", kind=\"bar\", figsize=(10, 6), xticks=[]);"
   ]
  },
  {
   "attachments": {},
   "cell_type": "markdown",
   "metadata": {},
   "source": [
    "Great! Looks like we have succesfully reduced our max feature exposure. Now let's check the other performance metrics before vs after neutralization."
   ]
  },
  {
   "cell_type": "code",
   "execution_count": 45,
   "metadata": {},
   "outputs": [
    {
     "data": {
      "image/png": "[encoded data removed]",
      "text/plain": [
       "<Figure size 1000x600 with 1 Axes>"
      ]
     },
     "metadata": {},
     "output_type": "display_data"
    }
   ],
   "source": [
    "# Plot cumulative correlation before and after neutralization side by side\n",
    "per_era_validation_correlation_neutral = validation_data.groupby(\"era\").apply(lambda x: numerai_corr(x[\"neutral_prediction\"], x[\"target\"]))\n",
    "cumulative_per_era_validation_correlation_neutral = per_era_validation_correlation_neutral.cumsum()\n",
    "pd.DataFrame({\"before\": cumulative_per_era_validation_correlation, \"after\": cumulative_per_era_validation_correlation_neutral}).plot(title=\"Cumulative Correlation Before and After Neutralization\", figsize=(10, 6), xticks=[]);"
   ]
  },
  {
   "cell_type": "code",
   "execution_count": 48,
   "metadata": {},
   "outputs": [
    {
     "data": {
      "text/html": [
       "<div>\n",
       "<style scoped>\n",
       "    .dataframe tbody tr th:only-of-type {\n",
       "        vertical-align: middle;\n",
       "    }\n",
       "\n",
       "    .dataframe tbody tr th {\n",
       "        vertical-align: top;\n",
       "    }\n",
       "\n",
       "    .dataframe thead th {\n",
       "        text-align: right;\n",
       "    }\n",
       "</style>\n",
       "<table border=\"1\" class=\"dataframe\">\n",
       "  <thead>\n",
       "    <tr style=\"text-align: right;\">\n",
       "      <th></th>\n",
       "      <th>before</th>\n",
       "      <th>after</th>\n",
       "      <th>% change</th>\n",
       "    </tr>\n",
       "    <tr>\n",
       "      <th>metric</th>\n",
       "      <th></th>\n",
       "      <th></th>\n",
       "      <th></th>\n",
       "    </tr>\n",
       "  </thead>\n",
       "  <tbody>\n",
       "    <tr>\n",
       "      <th>correlation mean</th>\n",
       "      <td>0.020981</td>\n",
       "      <td>0.040239</td>\n",
       "      <td>91.789084</td>\n",
       "    </tr>\n",
       "    <tr>\n",
       "      <th>sharpe</th>\n",
       "      <td>0.727766</td>\n",
       "      <td>1.996588</td>\n",
       "      <td>174.344790</td>\n",
       "    </tr>\n",
       "    <tr>\n",
       "      <th>std</th>\n",
       "      <td>0.028829</td>\n",
       "      <td>0.020154</td>\n",
       "      <td>-30.091953</td>\n",
       "    </tr>\n",
       "    <tr>\n",
       "      <th>max drawdown</th>\n",
       "      <td>0.367775</td>\n",
       "      <td>0.017079</td>\n",
       "      <td>-95.356256</td>\n",
       "    </tr>\n",
       "    <tr>\n",
       "      <th>max feature exposure mean</th>\n",
       "      <td>0.313592</td>\n",
       "      <td>0.228623</td>\n",
       "      <td>-27.095364</td>\n",
       "    </tr>\n",
       "  </tbody>\n",
       "</table>\n",
       "</div>"
      ],
      "text/plain": [
       "                             before     after    % change\n",
       "metric                                                   \n",
       "correlation mean           0.020981  0.040239   91.789084\n",
       "sharpe                     0.727766  1.996588  174.344790\n",
       "std                        0.028829  0.020154  -30.091953\n",
       "max drawdown               0.367775  0.017079  -95.356256\n",
       "max feature exposure mean  0.313592  0.228623  -27.095364"
      ]
     },
     "execution_count": 48,
     "metadata": {},
     "output_type": "execute_result"
    }
   ],
   "source": [
    "# Compute performance metrics for neutralized predictions\n",
    "correlation_mean_neutral = per_era_validation_correlation_neutral.mean()\n",
    "correlation_std_neutral = per_era_validation_correlation_neutral.std(ddof=0)\n",
    "numerai_sharpe_neutral = correlation_mean_neutral / correlation_std_neutral\n",
    "rolling_max_neutral = cumulative_per_era_validation_correlation_neutral.expanding(min_periods=1).max()\n",
    "max_drawdown_neutral = (rolling_max_neutral - cumulative_per_era_validation_correlation_neutral).max()\n",
    "max_feature_exposure_mean_neutral = max_feature_exposure_per_era_neutral.mean()\n",
    "\n",
    "# Display performance metrics before and after neutralization side by side\n",
    "pd.DataFrame({\n",
    "    \"metric\": [\"correlation mean\", \"sharpe\", \"std\", \"max drawdown\", \"max feature exposure mean\"],\n",
    "    \"before\": [correlation_mean, numerai_sharpe, correlation_std, max_drawdown, max_feature_exposure_mean],\n",
    "    \"after\": [correlation_mean_neutral, numerai_sharpe_neutral, correlation_std_neutral, max_drawdown_neutral, max_feature_exposure_mean_neutral],\n",
    "    \"% change\": [\n",
    "        100 * (correlation_mean_neutral - correlation_mean) / correlation_mean,\n",
    "        100 * (numerai_sharpe_neutral - numerai_sharpe) / numerai_sharpe,\n",
    "        100 * (correlation_std_neutral - correlation_std) / correlation_std,\n",
    "        100 * (max_drawdown_neutral - max_drawdown) / max_drawdown,\n",
    "        100 * (max_feature_exposure_mean_neutral - max_feature_exposure_mean) / max_feature_exposure_mean]\n",
    "}).set_index(\"metric\")"
   ]
  },
  {
   "attachments": {},
   "cell_type": "markdown",
   "metadata": {},
   "source": [
    "As we can see, feature neutralization seems to have improved all of our metrics: max feature exposure mean down 27%, correlation mean up 91%, sharpe up 174%, max drawdown lowered by 95%. This is a pretty amazing improvement!\n",
    "\n",
    "In this example, we neutralized against all of the features we trained on with a proportion of 1.0. In practice, you may want to experiment with neutralizing against different subsets of features at different proportions. Ultimately, how you balance performance vs risk by applying feature neutralization is completely up to you. \n",
    "\n",
    "Feature neutralization is a deep and active area of research in the Numerai community. If you want to learn more about it, including the math behind the neutralization function, we highly encourage you to read up on the following posts: \n",
    "- https://forum.numer.ai/t/model-diagnostics-feature-exposure/899\n",
    "- https://forum.numer.ai/t/an-introduction-to-feature-neutralization-exposure/4955"
   ]
  },
  {
   "attachments": {},
   "cell_type": "markdown",
   "metadata": {},
   "source": [
    "To wrap this chapter up, lets upload a second model prediction pipeline using feature neutralization."
   ]
  },
  {
   "cell_type": "code",
   "execution_count": 47,
   "metadata": {},
   "outputs": [],
   "source": [
    "# Using the same model as before, but adding a feature neutralization step\n",
    "def predict_neutral(live_features):\n",
    "    live_predictions = model.predict(live_features[feature_cols])\n",
    "    neutral_predictions = neutralize(live_predictions, live_features[feature_cols])\n",
    "    submission = pd.Series(neutral_predictions, index=live_features.index)\n",
    "    return submission.to_frame(\"prediction\")\n",
    "\n",
    "# Use the cloudpickle library to serialize your function and its dependencies\n",
    "import cloudpickle\n",
    "p = cloudpickle.dumps(predict_neutral)\n",
    "with open(\"predict_neutral.pkl\", \"wb\") as f:\n",
    "    f.write(p)"
   ]
  },
  {
   "attachments": {},
   "cell_type": "markdown",
   "metadata": {},
   "source": [
    "That's it! Now head back to [numer.ai](numer.ai) to upload your model prediction pipeline! "
   ]
  }
 ],
 "metadata": {
  "kernelspec": {
   "display_name": "venv",
   "language": "python",
   "name": "python3"
  },
  "language_info": {
   "codemirror_mode": {
    "name": "ipython",
    "version": 3
   },
   "file_extension": ".py",
   "mimetype": "text/x-python",
   "name": "python",
   "nbconvert_exporter": "python",
   "pygments_lexer": "ipython3",
   "version": "3.11.2"
  },
  "orig_nbformat": 4
 },
 "nbformat": 4,
 "nbformat_minor": 2
}
