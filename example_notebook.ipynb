{
 "cells": [
  {
   "attachments": {},
   "cell_type": "markdown",
   "metadata": {},
   "source": [
    "# Numerai Example Notebook\n",
    "\n",
    "Welcome to the [Numerai](https://numer.ai/) data science tournament! If you are just getting started, this notebook is for you.\n",
    "\n",
    "In this notebook we will go through\n",
    "1. Dataset: how to download it and its basic structure\n",
    "2. Modelling: how to train our first model and evaluate its performance  \n",
    "3. Submissions: how to upload our first model to start competing in the tournament "
   ]
  },
  {
   "cell_type": "code",
   "execution_count": 1,
   "metadata": {},
   "outputs": [],
   "source": [
    "# Install dependencies\n",
    "!pip install -q numerapi pandas matplotlib lightgbm pyarrow cloudpickle"
   ]
  },
  {
   "attachments": {},
   "cell_type": "markdown",
   "metadata": {},
   "source": [
    "## 1. Dataset  \n",
    "\n",
    "Let's download the dataset and get familar with its basic structure. \n"
   ]
  },
  {
   "cell_type": "code",
   "execution_count": 2,
   "metadata": {},
   "outputs": [],
   "source": [
    "from numerapi import NumerAPI\n",
    "from scipy import stats\n",
    "import pandas as pd\n",
    "import numpy as np\n",
    "import json"
   ]
  },
  {
   "cell_type": "code",
   "execution_count": 3,
   "metadata": {},
   "outputs": [],
   "source": [
    "# Numerai API is the official Python API client for Numerai\n",
    "# We will be using it to download the data from the Numerai API\n",
    "napi = NumerAPI()"
   ]
  },
  {
   "cell_type": "code",
   "execution_count": 4,
   "metadata": {},
   "outputs": [
    {
     "data": {
      "text/plain": [
       "['v4.1/features.json',\n",
       " 'v4.1/live.parquet',\n",
       " 'v4.1/live_example_preds.csv',\n",
       " 'v4.1/live_example_preds.parquet',\n",
       " 'v4.1/live_int8.parquet',\n",
       " 'v4.1/meta_model.parquet',\n",
       " 'v4.1/train.parquet',\n",
       " 'v4.1/train_int8.parquet',\n",
       " 'v4.1/validation.parquet',\n",
       " 'v4.1/validation_example_preds.csv',\n",
       " 'v4.1/validation_example_preds.parquet',\n",
       " 'v4.1/validation_int8.parquet']"
      ]
     },
     "execution_count": 4,
     "metadata": {},
     "output_type": "execute_result"
    }
   ],
   "source": [
    "# v4.1 is the latest version of the dataset\n",
    "# Let's see what files are available for download\n",
    "[f for f in napi.list_datasets() if f.startswith(\"v4.1\")]"
   ]
  },
  {
   "attachments": {},
   "cell_type": "markdown",
   "metadata": {},
   "source": [
    "In this example, we will focus on the following files:\n",
    "- `features.json`: feature metadata \n",
    "- `train.parquet`: historical training data for training our model\n",
    "- `validation.parquet`: historical validation data for evaluating our model performance\n",
    "- `live.parquet`: live features for making submissions"
   ]
  },
  {
   "cell_type": "code",
   "execution_count": 5,
   "metadata": {},
   "outputs": [
    {
     "name": "stderr",
     "output_type": "stream",
     "text": [
      "2023-04-12 15:50:03,561 INFO numerapi.utils: starting download\n",
      "v4.1/train.parquet: 1.45GB [01:20, 17.9MB/s]                            \n",
      "2023-04-12 15:51:24,677 INFO numerapi.utils: starting download\n",
      "v4.1/features.json: 703kB [00:00, 3.56MB/s]                           \n"
     ]
    }
   ],
   "source": [
    "# Let's download the training data and feature metadata files\n",
    "# This will take about 1 minute 🍵\n",
    "napi.download_dataset(\"v4.1/train.parquet\");\n",
    "napi.download_dataset(\"v4.1/features.json\");"
   ]
  },
  {
   "cell_type": "code",
   "execution_count": 6,
   "metadata": {},
   "outputs": [
    {
     "data": {
      "text/plain": [
       "dict_keys(['small', 'medium', 'v2_equivalent_features', 'v3_equivalent_features', 'fncv3_features'])"
      ]
     },
     "execution_count": 6,
     "metadata": {},
     "output_type": "execute_result"
    }
   ],
   "source": [
    "# The feature metadata file contains a lot of useful information about the features\n",
    "# In particular, it defines various feature sets that are useful for training and evaluating models\n",
    "feature_metadata = json.load(open(\"v4.1/features.json\")) \n",
    "feature_metadata[\"feature_sets\"].keys()"
   ]
  },
  {
   "cell_type": "code",
   "execution_count": 7,
   "metadata": {},
   "outputs": [],
   "source": [
    "# In this example, we will be using the \"small\" feature set to minimize the memory footprint and training time of our model \n",
    "# In practice you will probably want to use all the features to maximize your model's performance\n",
    "feature_cols = feature_metadata[\"feature_sets\"][\"small\"]\n",
    "\n",
    "# Here we will only load the \"small\" subset of feature columns that we need\n",
    "# Using the \"columns\" argument when loading parquet files will save us a lot of memory and time\n",
    "training_data = pd.read_parquet(\"v4.1/train.parquet\", columns=[\"era\"] + feature_cols + [\"target\"]) "
   ]
  },
  {
   "cell_type": "code",
   "execution_count": 8,
   "metadata": {},
   "outputs": [
    {
     "data": {
      "text/html": [
       "<div>\n",
       "<style scoped>\n",
       "    .dataframe tbody tr th:only-of-type {\n",
       "        vertical-align: middle;\n",
       "    }\n",
       "\n",
       "    .dataframe tbody tr th {\n",
       "        vertical-align: top;\n",
       "    }\n",
       "\n",
       "    .dataframe thead th {\n",
       "        text-align: right;\n",
       "    }\n",
       "</style>\n",
       "<table border=\"1\" class=\"dataframe\">\n",
       "  <thead>\n",
       "    <tr style=\"text-align: right;\">\n",
       "      <th></th>\n",
       "      <th>era</th>\n",
       "      <th>feature_bijou_penetrant_syringa</th>\n",
       "      <th>...</th>\n",
       "      <th>feature_unventilated_sollar_bason</th>\n",
       "      <th>target</th>\n",
       "    </tr>\n",
       "    <tr>\n",
       "      <th>id</th>\n",
       "      <th></th>\n",
       "      <th></th>\n",
       "      <th></th>\n",
       "      <th></th>\n",
       "      <th></th>\n",
       "    </tr>\n",
       "  </thead>\n",
       "  <tbody>\n",
       "    <tr>\n",
       "      <th>n003bba8a98662e4</th>\n",
       "      <td>0001</td>\n",
       "      <td>0.00</td>\n",
       "      <td>...</td>\n",
       "      <td>0.00</td>\n",
       "      <td>0.25</td>\n",
       "    </tr>\n",
       "    <tr>\n",
       "      <th>n003bee128c2fcfc</th>\n",
       "      <td>0001</td>\n",
       "      <td>0.50</td>\n",
       "      <td>...</td>\n",
       "      <td>0.25</td>\n",
       "      <td>0.75</td>\n",
       "    </tr>\n",
       "    <tr>\n",
       "      <th>n0048ac83aff7194</th>\n",
       "      <td>0001</td>\n",
       "      <td>0.25</td>\n",
       "      <td>...</td>\n",
       "      <td>1.00</td>\n",
       "      <td>0.50</td>\n",
       "    </tr>\n",
       "    <tr>\n",
       "      <th>n00691bec80d3e02</th>\n",
       "      <td>0001</td>\n",
       "      <td>0.75</td>\n",
       "      <td>...</td>\n",
       "      <td>0.75</td>\n",
       "      <td>0.75</td>\n",
       "    </tr>\n",
       "    <tr>\n",
       "      <th>n00b8720a2fdc4f2</th>\n",
       "      <td>0001</td>\n",
       "      <td>0.00</td>\n",
       "      <td>...</td>\n",
       "      <td>0.00</td>\n",
       "      <td>0.75</td>\n",
       "    </tr>\n",
       "    <tr>\n",
       "      <th>...</th>\n",
       "      <td>...</td>\n",
       "      <td>...</td>\n",
       "      <td>...</td>\n",
       "      <td>...</td>\n",
       "      <td>...</td>\n",
       "    </tr>\n",
       "    <tr>\n",
       "      <th>nffcc1dbdf2212e6</th>\n",
       "      <td>0574</td>\n",
       "      <td>1.00</td>\n",
       "      <td>...</td>\n",
       "      <td>1.00</td>\n",
       "      <td>0.75</td>\n",
       "    </tr>\n",
       "    <tr>\n",
       "      <th>nffd71b7f6a128df</th>\n",
       "      <td>0574</td>\n",
       "      <td>0.75</td>\n",
       "      <td>...</td>\n",
       "      <td>0.50</td>\n",
       "      <td>0.00</td>\n",
       "    </tr>\n",
       "    <tr>\n",
       "      <th>nffde3b371d67394</th>\n",
       "      <td>0574</td>\n",
       "      <td>0.75</td>\n",
       "      <td>...</td>\n",
       "      <td>1.00</td>\n",
       "      <td>0.25</td>\n",
       "    </tr>\n",
       "    <tr>\n",
       "      <th>nfff1a1111b35e84</th>\n",
       "      <td>0574</td>\n",
       "      <td>0.25</td>\n",
       "      <td>...</td>\n",
       "      <td>0.00</td>\n",
       "      <td>0.50</td>\n",
       "    </tr>\n",
       "    <tr>\n",
       "      <th>nfff2bd38e397265</th>\n",
       "      <td>0574</td>\n",
       "      <td>1.00</td>\n",
       "      <td>...</td>\n",
       "      <td>1.00</td>\n",
       "      <td>0.75</td>\n",
       "    </tr>\n",
       "  </tbody>\n",
       "</table>\n",
       "<p>2420521 rows × 34 columns</p>\n",
       "</div>"
      ],
      "text/plain": [
       "                   era  feature_bijou_penetrant_syringa  ...   \n",
       "id                                                       ...   \n",
       "n003bba8a98662e4  0001                             0.00  ...  \\\n",
       "n003bee128c2fcfc  0001                             0.50  ...   \n",
       "n0048ac83aff7194  0001                             0.25  ...   \n",
       "n00691bec80d3e02  0001                             0.75  ...   \n",
       "n00b8720a2fdc4f2  0001                             0.00  ...   \n",
       "...                ...                              ...  ...   \n",
       "nffcc1dbdf2212e6  0574                             1.00  ...   \n",
       "nffd71b7f6a128df  0574                             0.75  ...   \n",
       "nffde3b371d67394  0574                             0.75  ...   \n",
       "nfff1a1111b35e84  0574                             0.25  ...   \n",
       "nfff2bd38e397265  0574                             1.00  ...   \n",
       "\n",
       "                  feature_unventilated_sollar_bason  target  \n",
       "id                                                           \n",
       "n003bba8a98662e4                               0.00    0.25  \n",
       "n003bee128c2fcfc                               0.25    0.75  \n",
       "n0048ac83aff7194                               1.00    0.50  \n",
       "n00691bec80d3e02                               0.75    0.75  \n",
       "n00b8720a2fdc4f2                               0.00    0.75  \n",
       "...                                             ...     ...  \n",
       "nffcc1dbdf2212e6                               1.00    0.75  \n",
       "nffd71b7f6a128df                               0.50    0.00  \n",
       "nffde3b371d67394                               1.00    0.25  \n",
       "nfff1a1111b35e84                               0.00    0.50  \n",
       "nfff2bd38e397265                               1.00    0.75  \n",
       "\n",
       "[2420521 rows x 34 columns]"
      ]
     },
     "execution_count": 8,
     "metadata": {},
     "output_type": "execute_result"
    }
   ],
   "source": [
    "# Let's take a look at the training data\n",
    "# We limit the number of rows and columns displayed to make it easier to read\n",
    "pd.set_option('display.max_rows', 10)\n",
    "pd.set_option('display.max_columns', 5)\n",
    "training_data"
   ]
  },
  {
   "attachments": {},
   "cell_type": "markdown",
   "metadata": {},
   "source": [
    "The Numerai dataset is about the stock market. Each row represents a stock at a specific point in time\n",
    "- The `era` represents that point in time\n",
    "- The `features` are quantiative measures of the stock known at the point in time\n",
    "- The `target` represents the 20 day subsequent return from the point in time\n",
    "\n",
    "This stock ids, dates, and feature names in this dataset are <ins>obfuscated</ins>. For example\n",
    "- id `n003bba8a98662e4` in era `0001` could be \"TSLA on Jan 31st 2019\"\n",
    "- feature `feature_bijou_penetrant_syringa=0.00` could mean \"P/E ratio in the bottom 20th percentile within the technology sector\"\n",
    "- `target=0.25` could mean \"20 day subsequent reteruns in the bottom 40th percentile across the entire market\" "
   ]
  },
  {
   "cell_type": "code",
   "execution_count": 9,
   "metadata": {},
   "outputs": [
    {
     "data": {
      "image/png": "[encoded data removed]",
      "text/plain": [
       "<Figure size 500x300 with 1 Axes>"
      ]
     },
     "metadata": {},
     "output_type": "display_data"
    }
   ],
   "source": [
    "# Let's plot the number of rows per era\n",
    "# This correspondss to the number stocks in Numerai's investable universe over time\n",
    "training_data.groupby(\"era\").size().plot(title=\"Number of Rows per Era\", figsize=(5, 3));"
   ]
  },
  {
   "cell_type": "code",
   "execution_count": 10,
   "metadata": {},
   "outputs": [
    {
     "data": {
      "image/png": "[encoded data removed]",
      "text/plain": [
       "<Figure size 500x300 with 1 Axes>"
      ]
     },
     "metadata": {},
     "output_type": "display_data"
    }
   ],
   "source": [
    "# Feature values are all between 0 and 1 and binned into 5 equal bins \n",
    "training_data[feature_cols[0]].plot(kind=\"hist\", bins=100, density=True, figsize=(5, 3), title=feature_cols[0]);"
   ]
  },
  {
   "cell_type": "code",
   "execution_count": 11,
   "metadata": {},
   "outputs": [
    {
     "data": {
      "image/png": "[encoded data removed]",
      "text/plain": [
       "<Figure size 500x300 with 1 Axes>"
      ]
     },
     "metadata": {},
     "output_type": "display_data"
    }
   ],
   "source": [
    "# The target value is also between 0 and 1 but binned into 5 unequal bins\n",
    "training_data[\"target\"].plot(kind=\"hist\", bins=100, density=True, figsize=(5, 3), title=\"target\");"
   ]
  },
  {
   "attachments": {},
   "cell_type": "markdown",
   "metadata": {},
   "source": [
    "## 2. Modelling\n",
    "Our task is to train a machine learning model to predict the target. \n",
    "\n",
    "Below we will train an example model and go through some of the key metrics used to evaluate model performance. "
   ]
  },
  {
   "cell_type": "code",
   "execution_count": 12,
   "metadata": {},
   "outputs": [],
   "source": [
    "# Let's train a simple model using LightGBM\n",
    "# This will take about 2 minutes 🍵\n",
    "from lightgbm import LGBMRegressor\n",
    "params = {\n",
    "   \"n_estimators\": 2000,\n",
    "   \"learning_rate\": 0.01,\n",
    "   \"max_depth\": 5,\n",
    "   \"num_leaves\": 2 ** 5,\n",
    "   \"colsample_bytree\": 0.1\n",
    "}\n",
    "model = LGBMRegressor(**params)\n",
    "model.fit(\n",
    "   training_data[feature_cols],\n",
    "   training_data[\"target\"]\n",
    ");"
   ]
  },
  {
   "cell_type": "code",
   "execution_count": 13,
   "metadata": {},
   "outputs": [
    {
     "name": "stderr",
     "output_type": "stream",
     "text": [
      "2023-04-12 15:53:51,281 INFO numerapi.utils: starting download\n",
      "v4.1/validation.parquet: 1.54GB [01:19, 19.3MB/s]                            \n"
     ]
    }
   ],
   "source": [
    "# Let's download the validation dataset and make predictions against it to evaluate our model\n",
    "# This will take about 2 minutes 🍵\n",
    "napi.download_dataset(\"v4.1/validation.parquet\");"
   ]
  },
  {
   "cell_type": "code",
   "execution_count": 14,
   "metadata": {},
   "outputs": [],
   "source": [
    "# Again we only load the \"small\" subset of the features to save time and memory\n",
    "# This time, we will also load the \"data_type\" column so that we can filter against it\n",
    "validation_data = pd.read_parquet(\"v4.1/validation.parquet\", columns=[\"era\", \"data_type\"] + feature_cols + [\"target\"])\n",
    "\n",
    "# In this example we will only need the rows where data_type == \"validation\"\n",
    "# We can drop the \"data_type\" column after filtering as we no longer need it\n",
    "validation_data = validation_data[validation_data[\"data_type\"] == \"validation\"]\n",
    "del validation_data[\"data_type\"]\n"
   ]
  },
  {
   "cell_type": "code",
   "execution_count": 15,
   "metadata": {},
   "outputs": [
    {
     "data": {
      "text/html": [
       "<div>\n",
       "<style scoped>\n",
       "    .dataframe tbody tr th:only-of-type {\n",
       "        vertical-align: middle;\n",
       "    }\n",
       "\n",
       "    .dataframe tbody tr th {\n",
       "        vertical-align: top;\n",
       "    }\n",
       "\n",
       "    .dataframe thead th {\n",
       "        text-align: right;\n",
       "    }\n",
       "</style>\n",
       "<table border=\"1\" class=\"dataframe\">\n",
       "  <thead>\n",
       "    <tr style=\"text-align: right;\">\n",
       "      <th></th>\n",
       "      <th>era</th>\n",
       "      <th>feature_bijou_penetrant_syringa</th>\n",
       "      <th>...</th>\n",
       "      <th>feature_unventilated_sollar_bason</th>\n",
       "      <th>target</th>\n",
       "    </tr>\n",
       "    <tr>\n",
       "      <th>id</th>\n",
       "      <th></th>\n",
       "      <th></th>\n",
       "      <th></th>\n",
       "      <th></th>\n",
       "      <th></th>\n",
       "    </tr>\n",
       "  </thead>\n",
       "  <tbody>\n",
       "    <tr>\n",
       "      <th>n000101811a8a843</th>\n",
       "      <td>0575</td>\n",
       "      <td>0.25</td>\n",
       "      <td>...</td>\n",
       "      <td>0.75</td>\n",
       "      <td>0.50</td>\n",
       "    </tr>\n",
       "    <tr>\n",
       "      <th>n001e1318d5072ac</th>\n",
       "      <td>0575</td>\n",
       "      <td>0.50</td>\n",
       "      <td>...</td>\n",
       "      <td>0.75</td>\n",
       "      <td>0.00</td>\n",
       "    </tr>\n",
       "    <tr>\n",
       "      <th>n002a9c5ab785cbb</th>\n",
       "      <td>0575</td>\n",
       "      <td>0.25</td>\n",
       "      <td>...</td>\n",
       "      <td>0.25</td>\n",
       "      <td>0.50</td>\n",
       "    </tr>\n",
       "    <tr>\n",
       "      <th>n002ccf6d0e8c5ad</th>\n",
       "      <td>0575</td>\n",
       "      <td>0.25</td>\n",
       "      <td>...</td>\n",
       "      <td>0.00</td>\n",
       "      <td>0.25</td>\n",
       "    </tr>\n",
       "    <tr>\n",
       "      <th>n0051ab821295c29</th>\n",
       "      <td>0575</td>\n",
       "      <td>1.00</td>\n",
       "      <td>...</td>\n",
       "      <td>1.00</td>\n",
       "      <td>0.50</td>\n",
       "    </tr>\n",
       "    <tr>\n",
       "      <th>...</th>\n",
       "      <td>...</td>\n",
       "      <td>...</td>\n",
       "      <td>...</td>\n",
       "      <td>...</td>\n",
       "      <td>...</td>\n",
       "    </tr>\n",
       "    <tr>\n",
       "      <th>nffd4dca666527aa</th>\n",
       "      <td>1052</td>\n",
       "      <td>0.50</td>\n",
       "      <td>...</td>\n",
       "      <td>0.75</td>\n",
       "      <td>0.50</td>\n",
       "    </tr>\n",
       "    <tr>\n",
       "      <th>nffdbcade5a291a7</th>\n",
       "      <td>1052</td>\n",
       "      <td>0.75</td>\n",
       "      <td>...</td>\n",
       "      <td>0.25</td>\n",
       "      <td>0.50</td>\n",
       "    </tr>\n",
       "    <tr>\n",
       "      <th>nfff85c23d664eed</th>\n",
       "      <td>1052</td>\n",
       "      <td>0.50</td>\n",
       "      <td>...</td>\n",
       "      <td>1.00</td>\n",
       "      <td>1.00</td>\n",
       "    </tr>\n",
       "    <tr>\n",
       "      <th>nfffc328db414b01</th>\n",
       "      <td>1052</td>\n",
       "      <td>0.50</td>\n",
       "      <td>...</td>\n",
       "      <td>0.25</td>\n",
       "      <td>0.50</td>\n",
       "    </tr>\n",
       "    <tr>\n",
       "      <th>nfffca84caea862a</th>\n",
       "      <td>1052</td>\n",
       "      <td>0.00</td>\n",
       "      <td>...</td>\n",
       "      <td>0.00</td>\n",
       "      <td>0.25</td>\n",
       "    </tr>\n",
       "  </tbody>\n",
       "</table>\n",
       "<p>2441816 rows × 34 columns</p>\n",
       "</div>"
      ],
      "text/plain": [
       "                   era  feature_bijou_penetrant_syringa  ...   \n",
       "id                                                       ...   \n",
       "n000101811a8a843  0575                             0.25  ...  \\\n",
       "n001e1318d5072ac  0575                             0.50  ...   \n",
       "n002a9c5ab785cbb  0575                             0.25  ...   \n",
       "n002ccf6d0e8c5ad  0575                             0.25  ...   \n",
       "n0051ab821295c29  0575                             1.00  ...   \n",
       "...                ...                              ...  ...   \n",
       "nffd4dca666527aa  1052                             0.50  ...   \n",
       "nffdbcade5a291a7  1052                             0.75  ...   \n",
       "nfff85c23d664eed  1052                             0.50  ...   \n",
       "nfffc328db414b01  1052                             0.50  ...   \n",
       "nfffca84caea862a  1052                             0.00  ...   \n",
       "\n",
       "                  feature_unventilated_sollar_bason  target  \n",
       "id                                                           \n",
       "n000101811a8a843                               0.75    0.50  \n",
       "n001e1318d5072ac                               0.75    0.00  \n",
       "n002a9c5ab785cbb                               0.25    0.50  \n",
       "n002ccf6d0e8c5ad                               0.00    0.25  \n",
       "n0051ab821295c29                               1.00    0.50  \n",
       "...                                             ...     ...  \n",
       "nffd4dca666527aa                               0.75    0.50  \n",
       "nffdbcade5a291a7                               0.25    0.50  \n",
       "nfff85c23d664eed                               1.00    1.00  \n",
       "nfffc328db414b01                               0.25    0.50  \n",
       "nfffca84caea862a                               0.00    0.25  \n",
       "\n",
       "[2441816 rows x 34 columns]"
      ]
     },
     "execution_count": 15,
     "metadata": {},
     "output_type": "execute_result"
    }
   ],
   "source": [
    "# The structure of the validation dataset is the same as the training dataset\n",
    "# Notice the eras pick up where the training dataset eras left off\n",
    "validation_data"
   ]
  },
  {
   "cell_type": "code",
   "execution_count": 16,
   "metadata": {},
   "outputs": [],
   "source": [
    "# Let's make predictions against the validation dataset\n",
    "# This will take about 2 minutes 🍵\n",
    "predictions = pd.Series(model.predict(validation_data[feature_cols]), index=validation_data.index)"
   ]
  },
  {
   "cell_type": "code",
   "execution_count": 17,
   "metadata": {},
   "outputs": [
    {
     "data": {
      "text/html": [
       "<div>\n",
       "<style scoped>\n",
       "    .dataframe tbody tr th:only-of-type {\n",
       "        vertical-align: middle;\n",
       "    }\n",
       "\n",
       "    .dataframe tbody tr th {\n",
       "        vertical-align: top;\n",
       "    }\n",
       "\n",
       "    .dataframe thead th {\n",
       "        text-align: right;\n",
       "    }\n",
       "</style>\n",
       "<table border=\"1\" class=\"dataframe\">\n",
       "  <thead>\n",
       "    <tr style=\"text-align: right;\">\n",
       "      <th></th>\n",
       "      <th>era</th>\n",
       "      <th>prediction</th>\n",
       "      <th>target</th>\n",
       "    </tr>\n",
       "    <tr>\n",
       "      <th>id</th>\n",
       "      <th></th>\n",
       "      <th></th>\n",
       "      <th></th>\n",
       "    </tr>\n",
       "  </thead>\n",
       "  <tbody>\n",
       "    <tr>\n",
       "      <th>n000101811a8a843</th>\n",
       "      <td>0575</td>\n",
       "      <td>0.483958</td>\n",
       "      <td>0.50</td>\n",
       "    </tr>\n",
       "    <tr>\n",
       "      <th>n001e1318d5072ac</th>\n",
       "      <td>0575</td>\n",
       "      <td>0.494990</td>\n",
       "      <td>0.00</td>\n",
       "    </tr>\n",
       "    <tr>\n",
       "      <th>n002a9c5ab785cbb</th>\n",
       "      <td>0575</td>\n",
       "      <td>0.501213</td>\n",
       "      <td>0.50</td>\n",
       "    </tr>\n",
       "    <tr>\n",
       "      <th>n002ccf6d0e8c5ad</th>\n",
       "      <td>0575</td>\n",
       "      <td>0.507834</td>\n",
       "      <td>0.25</td>\n",
       "    </tr>\n",
       "    <tr>\n",
       "      <th>n0051ab821295c29</th>\n",
       "      <td>0575</td>\n",
       "      <td>0.484320</td>\n",
       "      <td>0.50</td>\n",
       "    </tr>\n",
       "    <tr>\n",
       "      <th>...</th>\n",
       "      <td>...</td>\n",
       "      <td>...</td>\n",
       "      <td>...</td>\n",
       "    </tr>\n",
       "    <tr>\n",
       "      <th>nffd4dca666527aa</th>\n",
       "      <td>1052</td>\n",
       "      <td>0.487333</td>\n",
       "      <td>0.50</td>\n",
       "    </tr>\n",
       "    <tr>\n",
       "      <th>nffdbcade5a291a7</th>\n",
       "      <td>1052</td>\n",
       "      <td>0.503214</td>\n",
       "      <td>0.50</td>\n",
       "    </tr>\n",
       "    <tr>\n",
       "      <th>nfff85c23d664eed</th>\n",
       "      <td>1052</td>\n",
       "      <td>0.487037</td>\n",
       "      <td>1.00</td>\n",
       "    </tr>\n",
       "    <tr>\n",
       "      <th>nfffc328db414b01</th>\n",
       "      <td>1052</td>\n",
       "      <td>0.499818</td>\n",
       "      <td>0.50</td>\n",
       "    </tr>\n",
       "    <tr>\n",
       "      <th>nfffca84caea862a</th>\n",
       "      <td>1052</td>\n",
       "      <td>0.493802</td>\n",
       "      <td>0.25</td>\n",
       "    </tr>\n",
       "  </tbody>\n",
       "</table>\n",
       "<p>2441816 rows × 3 columns</p>\n",
       "</div>"
      ],
      "text/plain": [
       "                   era  prediction  target\n",
       "id                                        \n",
       "n000101811a8a843  0575    0.483958    0.50\n",
       "n001e1318d5072ac  0575    0.494990    0.00\n",
       "n002a9c5ab785cbb  0575    0.501213    0.50\n",
       "n002ccf6d0e8c5ad  0575    0.507834    0.25\n",
       "n0051ab821295c29  0575    0.484320    0.50\n",
       "...                ...         ...     ...\n",
       "nffd4dca666527aa  1052    0.487333    0.50\n",
       "nffdbcade5a291a7  1052    0.503214    0.50\n",
       "nfff85c23d664eed  1052    0.487037    1.00\n",
       "nfffc328db414b01  1052    0.499818    0.50\n",
       "nfffca84caea862a  1052    0.493802    0.25\n",
       "\n",
       "[2441816 rows x 3 columns]"
      ]
     },
     "execution_count": 17,
     "metadata": {},
     "output_type": "execute_result"
    }
   ],
   "source": [
    "# Let's take a look at our predictions lined up with the target values\n",
    "validation_data[\"prediction\"] = predictions\n",
    "validation_data[[\"era\", \"prediction\", \"target\"]]"
   ]
  },
  {
   "attachments": {},
   "cell_type": "markdown",
   "metadata": {},
   "source": [
    "Numerai uses a special correlation metric to evaluate the performance of models. \n",
    "\n",
    "At a high level, this metric is designed to be a good proxy for actual portfolio returns if the predictions were used in live trading.\n",
    "- First the predictions are <ins>gauss ranked</ins>. We do this to match our live trading process, where all model predictions are standardized this way before being ensembled together in the meta model.\n",
    "- Then both the predictions and targets are <ins>raised to the power of 1.5</ins> before calculating the Pearson correlation. We do this to accentuate the tails as the hedge fund tends to only trade the stocks with highest or lowest predicted returns.\n",
    "\n",
    "The key takeaway here is that your prediction's distribution does not matter. You are only evaluated on your prediction's ranks. And your score depends more on the tails than a typical rank-correlation."
   ]
  },
  {
   "cell_type": "code",
   "execution_count": 18,
   "metadata": {},
   "outputs": [],
   "source": [
    "# Numerai's primary scoring metric\n",
    "def numerai_corr(preds, target):\n",
    "    # rank (keeping ties) then gaussianize predictions to standadize prediction distributions \n",
    "    ranked_preds = (preds.rank(method=\"average\").values - 0.5) / preds.count()\n",
    "    gauss_ranked_preds = stats.norm.ppf(ranked_preds)\n",
    "    # raise both preds and target to the power of 1.5 to accentuate the tails\n",
    "    preds_p15 = np.sign(gauss_ranked_preds) * np.abs(gauss_ranked_preds) ** 1.5 \n",
    "    target_p15 = np.sign(target) * np.abs(target) ** 1.5\n",
    "    # finally return the Pearson correlation\n",
    "    return np.corrcoef(preds_p15, target_p15)[0, 1]"
   ]
  },
  {
   "cell_type": "code",
   "execution_count": 19,
   "metadata": {},
   "outputs": [
    {
     "data": {
      "image/png": "[encoded data removed]",
      "text/plain": [
       "<Figure size 1000x600 with 1 Axes>"
      ]
     },
     "metadata": {},
     "output_type": "display_data"
    }
   ],
   "source": [
    "# Compute the per-era correlation between our predictions and the target values\n",
    "per_era_validation_correlation = validation_data.groupby(\"era\").apply(lambda x: numerai_corr(x[\"prediction\"], x[\"target\"]))\n",
    "\n",
    "# Plot the per-era correlation\n",
    "per_era_validation_correlation.plot(kind=\"bar\", title=\"Validation Correlation\", figsize=(10, 6), xticks=[]);"
   ]
  },
  {
   "cell_type": "code",
   "execution_count": 20,
   "metadata": {},
   "outputs": [
    {
     "data": {
      "image/png": "[encoded data removed]",
      "text/plain": [
       "<Figure size 1000x600 with 1 Axes>"
      ]
     },
     "metadata": {},
     "output_type": "display_data"
    }
   ],
   "source": [
    "# Another way to visualize our model performance is to look at the cumulative correlation over time\n",
    "# If you have ever seen a backtest of a trading strategy, this is similar to looking at the cumulative returns over time\n",
    "cumulative_per_era_validation_correlation = per_era_validation_correlation.cumsum()\n",
    "cumulative_per_era_validation_correlation.plot(title=\"Cumulative Validation Correlation\", figsize=(10, 6));"
   ]
  },
  {
   "cell_type": "code",
   "execution_count": 21,
   "metadata": {},
   "outputs": [
    {
     "data": {
      "text/plain": [
       "0.02102306451392744"
      ]
     },
     "execution_count": 21,
     "metadata": {},
     "output_type": "execute_result"
    }
   ],
   "source": [
    "# What is the average correlation across all eras?\n",
    "# You should aim for a correlation mean of at least 0.03 to be considered a good model\n",
    "correlation_mean = per_era_validation_correlation.mean()\n",
    "correlation_mean"
   ]
  },
  {
   "attachments": {},
   "cell_type": "markdown",
   "metadata": {},
   "source": [
    "Apart from correlation, there are a few other important metrics that can be helpful in understanding a model's performance\n",
    "- `Numerai Sharpe`: a measure of a model's consistency\n",
    "- `Numerai Max Drawdown`: a measure of a model's worst period of performance \n",
    "- `Feature Exposure`: a measure of a model's linear correlation to any single features \n",
    "- `Feature Nuetral Correlation`: a measure of a model's performance that is orthogonal to features "
   ]
  },
  {
   "cell_type": "code",
   "execution_count": 22,
   "metadata": {},
   "outputs": [
    {
     "data": {
      "text/plain": [
       "0.687923334747409"
      ]
     },
     "execution_count": 22,
     "metadata": {},
     "output_type": "execute_result"
    }
   ],
   "source": [
    "# Sharp ratio is a common metric in finance used to measure the consistency or risk-adjusted performance of an investment strategy\n",
    "# Typically, the Sharpe ratio is computed as the average return minus the risk free rate divided by the standard deviation of the return\n",
    "# The higher the return per unit of risk (standard deviation), the better and more consistent the investment strategy\n",
    "# In Numerai, we compute the Sharpe ratio as the average correlation divided by the standard deviation of the correlation\n",
    "# You should aim for a Numerai Sharpe ratio of at least 1.0 to be considered a consistent model\n",
    "correlation_std = per_era_validation_correlation.std(ddof=0)\n",
    "numerai_sharpe = correlation_mean / correlation_std\n",
    "numerai_sharpe"
   ]
  },
  {
   "cell_type": "code",
   "execution_count": 23,
   "metadata": {},
   "outputs": [
    {
     "data": {
      "text/plain": [
       "-0.5500010601490315"
      ]
     },
     "execution_count": 23,
     "metadata": {},
     "output_type": "execute_result"
    }
   ],
   "source": [
    "# Max drawdown is a common metric in finance used to measure the worst case scenario of an investment strategy\n",
    "# Typically, the max drawdown is computed as the difference between the highest peak and lowest trough of the cumulative returns\n",
    "# In Numerai, we compute the max drawdown as the difference between the highest peak and lowest trough of the cumulative correlation\n",
    "# You should aim to minimize the max drawdown of your model but how much you care about this versus maximizing the correlation mean is up to you\n",
    "rolling_max = cumulative_per_era_validation_correlation.expanding(min_periods=1).max()\n",
    "max_drawdown = -(rolling_max - cumulative_per_era_validation_correlation).max()\n",
    "max_drawdown"
   ]
  },
  {
   "cell_type": "code",
   "execution_count": 24,
   "metadata": {},
   "outputs": [],
   "source": [
    "# Feature exposure is a metric used to measure the amount and type of risk your model is taking\n",
    "# Having high expoosure to a single feature means having high linear correlation with that feature\n",
    "# Models with high exposure to a single feature are considered risky because features are not consistently predictive on their own\n",
    "# You should aim to minimize feature exposure but how much you care about this versus maximizing the correlation mean is up to you\n",
    "feature_cols = [f for f in validation_data.columns if f.startswith(\"feature\")]\n",
    "max_per_era = validation_data.groupby(\"era\").apply(lambda d: d[feature_cols].corrwith(d[\"prediction\"]).abs().max())\n",
    "max_feature_exposure = max_per_era.mean()\n"
   ]
  },
  {
   "cell_type": "code",
   "execution_count": 25,
   "metadata": {},
   "outputs": [],
   "source": [
    "# Neutralizing predictions against features is the same as removing the linear exposure to features\n",
    "# In other words, we are computing orthogonal component of the predictions with regards to the feature matrix\n",
    "# Proportion controls how much of the exposure to neutralize, where 1.0 means 100% of the exposure is neutralized\n",
    "def neutralize(predictions, features, proportion=1.0):\n",
    "    # given predictions p and feature matrix F, the orthogonal component p' with regards to F is:\n",
    "    # p' = p - (F dot (F_inverse dot p))\n",
    "    inverse_features = np.linalg.pinv(features.values, rcond=1e-6)\n",
    "    exposure = proportion * features.values.dot(inverse_features.dot(predictions))\n",
    "    return predictions - exposure\n",
    "\n",
    "# Feature neutral correlation is just the correlation between the predictions and the target after neutralizing the predictions against the features\n",
    "# Instead of optimizing for correlation, you may want to optimize for feature neutral correlation to improve the robustness of your model\n",
    "def feature_neutral_corelation(preds, target, features):\n",
    "    # rank (keeping ties) then gaussianize predictions to standadize prediction distributions \n",
    "    ranked_preds = (preds.rank(method=\"average\").values - 0.5) / preds.count()\n",
    "    gauss_ranked_preds = stats.norm.ppf(ranked_preds)\n",
    "    # neutralize predictions\n",
    "    neutral_preds = pd.Series(neutralize(gauss_ranked_preds, features), index=preds.index)\n",
    "    # finally compute numerai correlation\n",
    "    return numerai_corr(neutral_preds, target)"
   ]
  },
  {
   "cell_type": "code",
   "execution_count": 26,
   "metadata": {},
   "outputs": [
    {
     "data": {
      "image/png": "[encoded data removed]",
      "text/plain": [
       "<Figure size 1000x600 with 1 Axes>"
      ]
     },
     "metadata": {},
     "output_type": "display_data"
    }
   ],
   "source": [
    "# Compute the per-era feature neutral correlation\n",
    "# In this example, we neutralize the predictions against the \"small\" set of features that we used for training at a proportion of 1.0\n",
    "# In practice, you may want to neutralize against a larger set of features and/or at a lower proportion\n",
    "per_era_feature_neutral_correlation = validation_data.groupby(\"era\").apply(lambda x: feature_neutral_corelation(x[\"prediction\"], x[\"target\"], x[feature_cols]))\n",
    "per_era_feature_neutral_correlation.plot(kind=\"bar\", title=\"Validation Feature Neutral Correlation\", figsize=(10, 6), xticks=[]);"
   ]
  },
  {
   "cell_type": "code",
   "execution_count": 27,
   "metadata": {},
   "outputs": [
    {
     "data": {
      "image/png": "[encoded data removed]",
      "text/plain": [
       "<Figure size 1000x600 with 1 Axes>"
      ]
     },
     "metadata": {},
     "output_type": "display_data"
    }
   ],
   "source": [
    "# Similar to above, we can also look at the cumulative feature neutral correlation over time\n",
    "per_era_feature_neutral_correlation.cumsum().plot(title=\"Cumulative Validation Feature Neutral Correlation\", figsize=(10, 6));"
   ]
  },
  {
   "attachments": {},
   "cell_type": "markdown",
   "metadata": {},
   "source": [
    "# 3. Submissions\n",
    "Unlike a Kaggle competition where models are often evaluated based on their performance on a hold out test set, Numerai evaluates models based only on their <ins>live performance</ins> in the real stock market.\n",
    "\n",
    "To compete in the tournament, your model must submit live predictions on live features released every day. Only the scores of these live predictions count towards your model's live performance.\n",
    "\n",
    "Here is how you create a single live submission using the latest live features released today. "
   ]
  },
  {
   "cell_type": "code",
   "execution_count": 28,
   "metadata": {},
   "outputs": [
    {
     "name": "stderr",
     "output_type": "stream",
     "text": [
      "2023-04-12 15:56:45,500 INFO numerapi.utils: starting download\n",
      "v4.1/live.parquet: 4.47MB [00:00, 11.2MB/s]                            \n"
     ]
    },
    {
     "data": {
      "text/html": [
       "<div>\n",
       "<style scoped>\n",
       "    .dataframe tbody tr th:only-of-type {\n",
       "        vertical-align: middle;\n",
       "    }\n",
       "\n",
       "    .dataframe tbody tr th {\n",
       "        vertical-align: top;\n",
       "    }\n",
       "\n",
       "    .dataframe thead th {\n",
       "        text-align: right;\n",
       "    }\n",
       "</style>\n",
       "<table border=\"1\" class=\"dataframe\">\n",
       "  <thead>\n",
       "    <tr style=\"text-align: right;\">\n",
       "      <th></th>\n",
       "      <th>prediction</th>\n",
       "    </tr>\n",
       "    <tr>\n",
       "      <th>id</th>\n",
       "      <th></th>\n",
       "    </tr>\n",
       "  </thead>\n",
       "  <tbody>\n",
       "    <tr>\n",
       "      <th>n00010f8c21b177f</th>\n",
       "      <td>0.479566</td>\n",
       "    </tr>\n",
       "    <tr>\n",
       "      <th>n00152e9dee4b154</th>\n",
       "      <td>0.498867</td>\n",
       "    </tr>\n",
       "    <tr>\n",
       "      <th>n00326454def2191</th>\n",
       "      <td>0.501579</td>\n",
       "    </tr>\n",
       "    <tr>\n",
       "      <th>n0033495d1eaff3e</th>\n",
       "      <td>0.510769</td>\n",
       "    </tr>\n",
       "    <tr>\n",
       "      <th>n003a85c56d64b08</th>\n",
       "      <td>0.511369</td>\n",
       "    </tr>\n",
       "    <tr>\n",
       "      <th>...</th>\n",
       "      <td>...</td>\n",
       "    </tr>\n",
       "    <tr>\n",
       "      <th>nffcbc936d783655</th>\n",
       "      <td>0.499039</td>\n",
       "    </tr>\n",
       "    <tr>\n",
       "      <th>nffce34983cbd43b</th>\n",
       "      <td>0.465250</td>\n",
       "    </tr>\n",
       "    <tr>\n",
       "      <th>nffe00d7fad5fce0</th>\n",
       "      <td>0.499777</td>\n",
       "    </tr>\n",
       "    <tr>\n",
       "      <th>nffe3d79e727d439</th>\n",
       "      <td>0.496872</td>\n",
       "    </tr>\n",
       "    <tr>\n",
       "      <th>nffe784987cdba8e</th>\n",
       "      <td>0.503067</td>\n",
       "    </tr>\n",
       "  </tbody>\n",
       "</table>\n",
       "<p>4950 rows × 1 columns</p>\n",
       "</div>"
      ],
      "text/plain": [
       "                  prediction\n",
       "id                          \n",
       "n00010f8c21b177f    0.479566\n",
       "n00152e9dee4b154    0.498867\n",
       "n00326454def2191    0.501579\n",
       "n0033495d1eaff3e    0.510769\n",
       "n003a85c56d64b08    0.511369\n",
       "...                      ...\n",
       "nffcbc936d783655    0.499039\n",
       "nffce34983cbd43b    0.465250\n",
       "nffe00d7fad5fce0    0.499777\n",
       "nffe3d79e727d439    0.496872\n",
       "nffe784987cdba8e    0.503067\n",
       "\n",
       "[4950 rows x 1 columns]"
      ]
     },
     "execution_count": 28,
     "metadata": {},
     "output_type": "execute_result"
    }
   ],
   "source": [
    "# Download latest live features\n",
    "napi.download_dataset(\"v4.1/live.parquet\");\n",
    "\n",
    "# Load live features\n",
    "live_features = pd.read_parquet(\"v4.1/live.parquet\", columns=feature_cols)\n",
    "\n",
    "# Generate live predictions\n",
    "live_predictions = model.predict(live_features[feature_cols])\n",
    "\n",
    "# Format submission\n",
    "submission = pd.Series(live_predictions, index=live_features.index).to_frame(\"prediction\")\n",
    "submission"
   ]
  },
  {
   "attachments": {},
   "cell_type": "markdown",
   "metadata": {},
   "source": [
    "To automate your daily submissions, you can simply <ins>upload your model</ins> to Numerai. Once uploaded, Numerai will take care of running your model against the latest live features and generating live submissions every day.\n",
    "\n",
    "Use the example code below to pickle your model into a file that can be uploaded to Numerai. "
   ]
  },
  {
   "cell_type": "code",
   "execution_count": 29,
   "metadata": {},
   "outputs": [],
   "source": [
    "# Define any function that takes live features and returns live predictions\n",
    "def predict(live_features):\n",
    "    live_predictions = model.predict(live_features[feature_cols])\n",
    "    submission = pd.Series(live_predictions, index=live_features.index)\n",
    "    return submission.to_frame(\"prediction\")\n",
    "\n",
    "# Use the cloudpickle library to serialize your function and its dependencies\n",
    "import cloudpickle\n",
    "p = cloudpickle.dumps(predict)\n",
    "with open(\"model.pkl\", \"wb\") as f:\n",
    "    f.write(p)"
   ]
  },
  {
   "cell_type": "code",
   "execution_count": 30,
   "metadata": {},
   "outputs": [],
   "source": [
    "# If running in Google Colab, download the model file\n",
    "# The `google.colab` module should always be available when running in Google Colab \n",
    "try:\n",
    "  from google.colab import files\n",
    "  files.download('model.pkl')\n",
    "except:\n",
    "  pass"
   ]
  },
  {
   "attachments": {},
   "cell_type": "markdown",
   "metadata": {},
   "source": [
    "Now head back to [numer.ai/](numer.ai/) to upload your model! "
   ]
  }
 ],
 "metadata": {
  "kernelspec": {
   "display_name": ".venv",
   "language": "python",
   "name": "python3"
  },
  "language_info": {
   "codemirror_mode": {
    "name": "ipython",
    "version": 3
   },
   "file_extension": ".py",
   "mimetype": "text/x-python",
   "name": "python",
   "nbconvert_exporter": "python",
   "pygments_lexer": "ipython3",
   "version": "3.11.2"
  },
  "orig_nbformat": 4
 },
 "nbformat": 4,
 "nbformat_minor": 2
}
