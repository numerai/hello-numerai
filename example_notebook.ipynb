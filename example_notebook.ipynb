{
 "cells": [
  {
   "attachments": {},
   "cell_type": "markdown",
   "metadata": {},
   "source": [
    "# Numerai Example Notebook\n",
    "\n",
    "Welcome to the [Numerai](https://numer.ai/) data science tournament! If you are just getting started, this notebook is for you.\n",
    "\n",
    "In this notebook we will go through\n",
    "1. Dataset: how to download it and its basic structure\n",
    "2. Modelling: how to train our first model and evaluate its performance  \n",
    "3. Submissions: how to upload our first model to start competing in the tournament"
   ]
  },
  {
   "cell_type": "code",
   "execution_count": 93,
   "metadata": {},
   "outputs": [
    {
     "name": "stdout",
     "output_type": "stream",
     "text": [
      "Note: you may need to restart the kernel to use updated packages.\n"
     ]
    }
   ],
   "source": [
    "# Install dependencies\n",
    "%pip install -q numerapi pandas matplotlib lightgbm pyarrow cloudpickle"
   ]
  },
  {
   "attachments": {},
   "cell_type": "markdown",
   "metadata": {},
   "source": [
    "## 1. Dataset  \n",
    "\n",
    "Let's download the dataset and get familar with its basic structure. \n"
   ]
  },
  {
   "cell_type": "code",
   "execution_count": 56,
   "metadata": {},
   "outputs": [],
   "source": [
    "# Numerai API is the official Python API client for Numerai\n",
    "from numerapi import NumerAPI\n",
    "import pandas as pd\n",
    "import numpy as np\n",
    "import json"
   ]
  },
  {
   "cell_type": "code",
   "execution_count": 4,
   "metadata": {},
   "outputs": [
    {
     "name": "stderr",
     "output_type": "stream",
     "text": [
      "2023-04-06 21:17:50,011 INFO numerapi.utils: target file already exists\n",
      "2023-04-06 21:17:50,012 INFO numerapi.utils: download complete\n",
      "2023-04-06 21:17:50,600 INFO numerapi.utils: target file already exists\n",
      "2023-04-06 21:17:50,601 INFO numerapi.utils: download complete\n"
     ]
    }
   ],
   "source": [
    "# v4.1 is the latest version of the dataset\n",
    "# Let's download the training data and feature metadata files\n",
    "# This will take about 1 minute 🍵\n",
    "napi = NumerAPI()\n",
    "napi.download_dataset(\"v4.1/train.parquet\")\n",
    "napi.download_dataset(\"v4.1/features.json\")"
   ]
  },
  {
   "cell_type": "code",
   "execution_count": 20,
   "metadata": {},
   "outputs": [],
   "source": [
    "# The feature metadata file contains a lot of useful information about the features\n",
    "# In particular, it defines a \"small\" and \"medium\" feature set that we can use to train smaller models\n",
    "feature_metadata = json.load(open(\"v4.1/features.json\")) \n",
    "feature_cols = feature_metadata[\"feature_sets\"][\"small\"]\n",
    "\n",
    "# For this example, we will only load the \"small\" subset of features to save time and memory\n",
    "# In practice, you will probably want to load all the features to maximize your model's performance\n",
    "training_data = pd.read_parquet(\"v4.1/train.parquet\", columns=[\"era\"] + feature_cols + [\"target\"]) "
   ]
  },
  {
   "cell_type": "code",
   "execution_count": 72,
   "metadata": {},
   "outputs": [
    {
     "data": {
      "text/html": [
       "<div>\n",
       "<style scoped>\n",
       "    .dataframe tbody tr th:only-of-type {\n",
       "        vertical-align: middle;\n",
       "    }\n",
       "\n",
       "    .dataframe tbody tr th {\n",
       "        vertical-align: top;\n",
       "    }\n",
       "\n",
       "    .dataframe thead th {\n",
       "        text-align: right;\n",
       "    }\n",
       "</style>\n",
       "<table border=\"1\" class=\"dataframe\">\n",
       "  <thead>\n",
       "    <tr style=\"text-align: right;\">\n",
       "      <th></th>\n",
       "      <th>era</th>\n",
       "      <th>feature_bijou_penetrant_syringa</th>\n",
       "      <th>...</th>\n",
       "      <th>feature_unventilated_sollar_bason</th>\n",
       "      <th>target</th>\n",
       "    </tr>\n",
       "    <tr>\n",
       "      <th>id</th>\n",
       "      <th></th>\n",
       "      <th></th>\n",
       "      <th></th>\n",
       "      <th></th>\n",
       "      <th></th>\n",
       "    </tr>\n",
       "  </thead>\n",
       "  <tbody>\n",
       "    <tr>\n",
       "      <th>n003bba8a98662e4</th>\n",
       "      <td>0001</td>\n",
       "      <td>0.00</td>\n",
       "      <td>...</td>\n",
       "      <td>0.00</td>\n",
       "      <td>0.25</td>\n",
       "    </tr>\n",
       "    <tr>\n",
       "      <th>n003bee128c2fcfc</th>\n",
       "      <td>0001</td>\n",
       "      <td>0.50</td>\n",
       "      <td>...</td>\n",
       "      <td>0.25</td>\n",
       "      <td>0.75</td>\n",
       "    </tr>\n",
       "    <tr>\n",
       "      <th>n0048ac83aff7194</th>\n",
       "      <td>0001</td>\n",
       "      <td>0.25</td>\n",
       "      <td>...</td>\n",
       "      <td>1.00</td>\n",
       "      <td>0.50</td>\n",
       "    </tr>\n",
       "    <tr>\n",
       "      <th>n00691bec80d3e02</th>\n",
       "      <td>0001</td>\n",
       "      <td>0.75</td>\n",
       "      <td>...</td>\n",
       "      <td>0.75</td>\n",
       "      <td>0.75</td>\n",
       "    </tr>\n",
       "    <tr>\n",
       "      <th>n00b8720a2fdc4f2</th>\n",
       "      <td>0001</td>\n",
       "      <td>0.00</td>\n",
       "      <td>...</td>\n",
       "      <td>0.00</td>\n",
       "      <td>0.75</td>\n",
       "    </tr>\n",
       "    <tr>\n",
       "      <th>...</th>\n",
       "      <td>...</td>\n",
       "      <td>...</td>\n",
       "      <td>...</td>\n",
       "      <td>...</td>\n",
       "      <td>...</td>\n",
       "    </tr>\n",
       "    <tr>\n",
       "      <th>nffcc1dbdf2212e6</th>\n",
       "      <td>0574</td>\n",
       "      <td>1.00</td>\n",
       "      <td>...</td>\n",
       "      <td>1.00</td>\n",
       "      <td>0.75</td>\n",
       "    </tr>\n",
       "    <tr>\n",
       "      <th>nffd71b7f6a128df</th>\n",
       "      <td>0574</td>\n",
       "      <td>0.75</td>\n",
       "      <td>...</td>\n",
       "      <td>0.50</td>\n",
       "      <td>0.00</td>\n",
       "    </tr>\n",
       "    <tr>\n",
       "      <th>nffde3b371d67394</th>\n",
       "      <td>0574</td>\n",
       "      <td>0.75</td>\n",
       "      <td>...</td>\n",
       "      <td>1.00</td>\n",
       "      <td>0.25</td>\n",
       "    </tr>\n",
       "    <tr>\n",
       "      <th>nfff1a1111b35e84</th>\n",
       "      <td>0574</td>\n",
       "      <td>0.25</td>\n",
       "      <td>...</td>\n",
       "      <td>0.00</td>\n",
       "      <td>0.50</td>\n",
       "    </tr>\n",
       "    <tr>\n",
       "      <th>nfff2bd38e397265</th>\n",
       "      <td>0574</td>\n",
       "      <td>1.00</td>\n",
       "      <td>...</td>\n",
       "      <td>1.00</td>\n",
       "      <td>0.75</td>\n",
       "    </tr>\n",
       "  </tbody>\n",
       "</table>\n",
       "<p>2420521 rows × 34 columns</p>\n",
       "</div>"
      ],
      "text/plain": [
       "                   era  feature_bijou_penetrant_syringa  ...   \n",
       "id                                                       ...   \n",
       "n003bba8a98662e4  0001  0.00                             ...  \\\n",
       "n003bee128c2fcfc  0001  0.50                             ...   \n",
       "n0048ac83aff7194  0001  0.25                             ...   \n",
       "n00691bec80d3e02  0001  0.75                             ...   \n",
       "n00b8720a2fdc4f2  0001  0.00                             ...   \n",
       "...                ...   ...                             ...   \n",
       "nffcc1dbdf2212e6  0574  1.00                             ...   \n",
       "nffd71b7f6a128df  0574  0.75                             ...   \n",
       "nffde3b371d67394  0574  0.75                             ...   \n",
       "nfff1a1111b35e84  0574  0.25                             ...   \n",
       "nfff2bd38e397265  0574  1.00                             ...   \n",
       "\n",
       "                  feature_unventilated_sollar_bason  target  \n",
       "id                                                           \n",
       "n003bba8a98662e4  0.00                               0.25    \n",
       "n003bee128c2fcfc  0.25                               0.75    \n",
       "n0048ac83aff7194  1.00                               0.50    \n",
       "n00691bec80d3e02  0.75                               0.75    \n",
       "n00b8720a2fdc4f2  0.00                               0.75    \n",
       "...                ...                                ...    \n",
       "nffcc1dbdf2212e6  1.00                               0.75    \n",
       "nffd71b7f6a128df  0.50                               0.00    \n",
       "nffde3b371d67394  1.00                               0.25    \n",
       "nfff1a1111b35e84  0.00                               0.50    \n",
       "nfff2bd38e397265  1.00                               0.75    \n",
       "\n",
       "[2420521 rows x 34 columns]"
      ]
     },
     "execution_count": 72,
     "metadata": {},
     "output_type": "execute_result"
    }
   ],
   "source": [
    "# Let's take a look at the training data\n",
    "# We limit the number of rows and columns displayed to make it easier to read\n",
    "pd.set_option('display.max_rows', 10)\n",
    "pd.set_option('display.max_columns', 5)\n",
    "training_data"
   ]
  },
  {
   "attachments": {},
   "cell_type": "markdown",
   "metadata": {},
   "source": [
    "At a high level, each row represents a stock at a specific point in time\n",
    "- The `era` represents that point in time\n",
    "- The `features` are quantiative measures of the stock known at the point in time\n",
    "- The `target` represents the 20 day subsequent return from the point in time\n",
    "\n",
    "This stock ids, dates, and feature names in this dataset are <ins>obfuscated</ins>. For example\n",
    "- id `n003bba8a98662e4` in era `0001` could be \"TSLA on Jan 31st 2019\"\n",
    "- feature `feature_bijou_penetrant_syringa=0.00` could mean \"P/E ratio in the bottom quintile within the technology sector\"\n",
    "- `target=0.25` could mean \"20 day subsequent reteruns in the bottom 25% percentile across the entire market\" \n",
    "\n",
    "Now let's examine each of the columns individually."
   ]
  },
  {
   "cell_type": "code",
   "execution_count": 48,
   "metadata": {},
   "outputs": [
    {
     "data": {
      "image/png": "[encoded data removed]",
      "text/plain": [
       "<Figure size 500x300 with 1 Axes>"
      ]
     },
     "metadata": {},
     "output_type": "display_data"
    }
   ],
   "source": [
    "# Let's plot the number of rows per era\n",
    "# This correspondss to the number stocks in Numerai's investable universe over time\n",
    "training_data.groupby(\"era\").size().plot(title=\"Number of Rows per Era\", figsize=(5, 3));"
   ]
  },
  {
   "cell_type": "code",
   "execution_count": 22,
   "metadata": {},
   "outputs": [
    {
     "data": {
      "image/png": "[encoded data removed]",
      "text/plain": [
       "<Figure size 500x300 with 1 Axes>"
      ]
     },
     "metadata": {},
     "output_type": "display_data"
    }
   ],
   "source": [
    "# Feature values are all between 0 and 1 and binned into 5 equal bins \n",
    "training_data[feature_cols[0]].plot(kind=\"hist\", bins=100, density=True, figsize=(5, 3), title=feature_cols[0]);"
   ]
  },
  {
   "cell_type": "code",
   "execution_count": 10,
   "metadata": {},
   "outputs": [
    {
     "data": {
      "image/png": "[encoded data removed]",
      "text/plain": [
       "<Figure size 500x300 with 1 Axes>"
      ]
     },
     "metadata": {},
     "output_type": "display_data"
    }
   ],
   "source": [
    "# The target value is also between 0 and 1 but binned into 5 unequal bins\n",
    "training_data[\"target\"].plot(kind=\"hist\", bins=100, density=True, figsize=(5, 3), title=\"target\");"
   ]
  },
  {
   "attachments": {},
   "cell_type": "markdown",
   "metadata": {},
   "source": [
    "## 2. Modelling\n",
    "Our task is to train a machine learning model to predict the target."
   ]
  },
  {
   "cell_type": "code",
   "execution_count": 92,
   "metadata": {},
   "outputs": [],
   "source": [
    "# Let's train a simple model using LightGBM\n",
    "# This will take about 2 minutes 🍵\n",
    "from lightgbm import LGBMRegressor\n",
    "params = {\n",
    "   \"n_estimators\": 2000,\n",
    "   \"learning_rate\": 0.01,\n",
    "   \"max_depth\": 5,\n",
    "   \"num_leaves\": 2 ** 5,\n",
    "   \"colsample_bytree\": 0.1\n",
    "}\n",
    "model = LGBMRegressor(**params)\n",
    "model.fit(\n",
    "   training_data[feature_cols],\n",
    "   training_data[\"target\"]\n",
    ");"
   ]
  },
  {
   "cell_type": "code",
   "execution_count": 64,
   "metadata": {},
   "outputs": [
    {
     "name": "stderr",
     "output_type": "stream",
     "text": [
      "2023-04-08 22:12:41,829 INFO numerapi.utils: target file already exists\n",
      "2023-04-08 22:12:41,830 INFO numerapi.utils: starting download\n",
      "v4.1/validation.parquet: 3.08GB [01:34, 32.7MB/s]                            \n"
     ]
    }
   ],
   "source": [
    "# Let's download the validation dataset and make predictions against it to evaluate our model\n",
    "# This will take about 2 minutes 🍵\n",
    "napi.download_dataset(\"v4.1/validation.parquet\")"
   ]
  },
  {
   "cell_type": "code",
   "execution_count": 74,
   "metadata": {},
   "outputs": [],
   "source": [
    "# Again we only load the \"small\" subset of the features to save time and memory\n",
    "# This time, we will also load the \"data_type\" column so that we can filter against it\n",
    "# In this example we will only need the rows where data_type == \"validation\"\n",
    "validation_data = pd.read_parquet(\"v4.1/validation.parquet\", columns=[\"era\", \"data_type\"] + feature_cols + [\"target\"])\n",
    "validation_data = validation_data[validation_data[\"data_type\"] == \"validation\"]\n",
    "del validation_data[\"data_type\"]\n"
   ]
  },
  {
   "cell_type": "code",
   "execution_count": 75,
   "metadata": {},
   "outputs": [
    {
     "data": {
      "text/html": [
       "<div>\n",
       "<style scoped>\n",
       "    .dataframe tbody tr th:only-of-type {\n",
       "        vertical-align: middle;\n",
       "    }\n",
       "\n",
       "    .dataframe tbody tr th {\n",
       "        vertical-align: top;\n",
       "    }\n",
       "\n",
       "    .dataframe thead th {\n",
       "        text-align: right;\n",
       "    }\n",
       "</style>\n",
       "<table border=\"1\" class=\"dataframe\">\n",
       "  <thead>\n",
       "    <tr style=\"text-align: right;\">\n",
       "      <th></th>\n",
       "      <th>era</th>\n",
       "      <th>feature_bijou_penetrant_syringa</th>\n",
       "      <th>...</th>\n",
       "      <th>feature_unventilated_sollar_bason</th>\n",
       "      <th>target</th>\n",
       "    </tr>\n",
       "    <tr>\n",
       "      <th>id</th>\n",
       "      <th></th>\n",
       "      <th></th>\n",
       "      <th></th>\n",
       "      <th></th>\n",
       "      <th></th>\n",
       "    </tr>\n",
       "  </thead>\n",
       "  <tbody>\n",
       "    <tr>\n",
       "      <th>n000101811a8a843</th>\n",
       "      <td>0575</td>\n",
       "      <td>0.25</td>\n",
       "      <td>...</td>\n",
       "      <td>0.75</td>\n",
       "      <td>0.50</td>\n",
       "    </tr>\n",
       "    <tr>\n",
       "      <th>n001e1318d5072ac</th>\n",
       "      <td>0575</td>\n",
       "      <td>0.50</td>\n",
       "      <td>...</td>\n",
       "      <td>0.75</td>\n",
       "      <td>0.00</td>\n",
       "    </tr>\n",
       "    <tr>\n",
       "      <th>n002a9c5ab785cbb</th>\n",
       "      <td>0575</td>\n",
       "      <td>0.25</td>\n",
       "      <td>...</td>\n",
       "      <td>0.25</td>\n",
       "      <td>0.50</td>\n",
       "    </tr>\n",
       "    <tr>\n",
       "      <th>n002ccf6d0e8c5ad</th>\n",
       "      <td>0575</td>\n",
       "      <td>0.25</td>\n",
       "      <td>...</td>\n",
       "      <td>0.00</td>\n",
       "      <td>0.25</td>\n",
       "    </tr>\n",
       "    <tr>\n",
       "      <th>n0051ab821295c29</th>\n",
       "      <td>0575</td>\n",
       "      <td>1.00</td>\n",
       "      <td>...</td>\n",
       "      <td>1.00</td>\n",
       "      <td>0.50</td>\n",
       "    </tr>\n",
       "    <tr>\n",
       "      <th>...</th>\n",
       "      <td>...</td>\n",
       "      <td>...</td>\n",
       "      <td>...</td>\n",
       "      <td>...</td>\n",
       "      <td>...</td>\n",
       "    </tr>\n",
       "    <tr>\n",
       "      <th>nffd4dca666527aa</th>\n",
       "      <td>1052</td>\n",
       "      <td>0.50</td>\n",
       "      <td>...</td>\n",
       "      <td>0.75</td>\n",
       "      <td>0.50</td>\n",
       "    </tr>\n",
       "    <tr>\n",
       "      <th>nffdbcade5a291a7</th>\n",
       "      <td>1052</td>\n",
       "      <td>0.75</td>\n",
       "      <td>...</td>\n",
       "      <td>0.25</td>\n",
       "      <td>0.50</td>\n",
       "    </tr>\n",
       "    <tr>\n",
       "      <th>nfff85c23d664eed</th>\n",
       "      <td>1052</td>\n",
       "      <td>0.50</td>\n",
       "      <td>...</td>\n",
       "      <td>1.00</td>\n",
       "      <td>1.00</td>\n",
       "    </tr>\n",
       "    <tr>\n",
       "      <th>nfffc328db414b01</th>\n",
       "      <td>1052</td>\n",
       "      <td>0.50</td>\n",
       "      <td>...</td>\n",
       "      <td>0.25</td>\n",
       "      <td>0.50</td>\n",
       "    </tr>\n",
       "    <tr>\n",
       "      <th>nfffca84caea862a</th>\n",
       "      <td>1052</td>\n",
       "      <td>0.00</td>\n",
       "      <td>...</td>\n",
       "      <td>0.00</td>\n",
       "      <td>0.25</td>\n",
       "    </tr>\n",
       "  </tbody>\n",
       "</table>\n",
       "<p>2441816 rows × 34 columns</p>\n",
       "</div>"
      ],
      "text/plain": [
       "                   era  feature_bijou_penetrant_syringa  ...   \n",
       "id                                                       ...   \n",
       "n000101811a8a843  0575  0.25                             ...  \\\n",
       "n001e1318d5072ac  0575  0.50                             ...   \n",
       "n002a9c5ab785cbb  0575  0.25                             ...   \n",
       "n002ccf6d0e8c5ad  0575  0.25                             ...   \n",
       "n0051ab821295c29  0575  1.00                             ...   \n",
       "...                ...   ...                             ...   \n",
       "nffd4dca666527aa  1052  0.50                             ...   \n",
       "nffdbcade5a291a7  1052  0.75                             ...   \n",
       "nfff85c23d664eed  1052  0.50                             ...   \n",
       "nfffc328db414b01  1052  0.50                             ...   \n",
       "nfffca84caea862a  1052  0.00                             ...   \n",
       "\n",
       "                  feature_unventilated_sollar_bason  target  \n",
       "id                                                           \n",
       "n000101811a8a843  0.75                               0.50    \n",
       "n001e1318d5072ac  0.75                               0.00    \n",
       "n002a9c5ab785cbb  0.25                               0.50    \n",
       "n002ccf6d0e8c5ad  0.00                               0.25    \n",
       "n0051ab821295c29  1.00                               0.50    \n",
       "...                ...                                ...    \n",
       "nffd4dca666527aa  0.75                               0.50    \n",
       "nffdbcade5a291a7  0.25                               0.50    \n",
       "nfff85c23d664eed  1.00                               1.00    \n",
       "nfffc328db414b01  0.25                               0.50    \n",
       "nfffca84caea862a  0.00                               0.25    \n",
       "\n",
       "[2441816 rows x 34 columns]"
      ]
     },
     "execution_count": 75,
     "metadata": {},
     "output_type": "execute_result"
    }
   ],
   "source": [
    "# The structure of the validation dataset is the same as the training dataset\n",
    "# Notice the eras pick up where the training dataset eras left off\n",
    "validation_data"
   ]
  },
  {
   "cell_type": "code",
   "execution_count": 76,
   "metadata": {},
   "outputs": [
    {
     "data": {
      "text/plain": [
       "array([0.48395846, 0.49499011, 0.50121331, ..., 0.48703664, 0.49981811,\n",
       "       0.49380213])"
      ]
     },
     "execution_count": 76,
     "metadata": {},
     "output_type": "execute_result"
    }
   ],
   "source": [
    "# Let's make predictions against the validation dataset\n",
    "# This will take about 2 minutes 🍵\n",
    "predictions = model.predict(validation_data[feature_cols])\n",
    "predictions"
   ]
  },
  {
   "cell_type": "code",
   "execution_count": 77,
   "metadata": {},
   "outputs": [
    {
     "data": {
      "image/png": "[encoded data removed]",
      "text/plain": [
       "<Figure size 500x300 with 1 Axes>"
      ]
     },
     "metadata": {},
     "output_type": "display_data"
    }
   ],
   "source": [
    "# How well did our model do? \n",
    "# Let's compute the per-era correlation between our predictions and the target\n",
    "# Correlation to the target or CORR is the primary metric used to evaluate Numerai models\n",
    "# As you can see our model has positive correlation with the target on some eras but negative correlation on others\n",
    "validation_data[\"prediction\"] = predictions\n",
    "validation_data.groupby(\"era\").apply(lambda x: x[\"prediction\"].corr(x[\"target\"])).plot(title=\"Validation Correlation\", figsize=(5, 3));"
   ]
  },
  {
   "cell_type": "code",
   "execution_count": 78,
   "metadata": {},
   "outputs": [
    {
     "data": {
      "text/plain": [
       "0.021279439294380365"
      ]
     },
     "execution_count": 78,
     "metadata": {},
     "output_type": "execute_result"
    }
   ],
   "source": [
    "# What is the average correlation across all eras?\n",
    "# Predicting the stock is HARD, an average correlation of just 0.03 is considered a very good model\n",
    "# Our model performance here is not great but it's good enough to get started\n",
    "validation_data.groupby(\"era\").apply(lambda x: x[\"prediction\"].corr(x[\"target\"])).mean()"
   ]
  },
  {
   "attachments": {},
   "cell_type": "markdown",
   "metadata": {},
   "source": [
    "# 3. Submissions\n",
    "Unlike a Kaggle competition where models are often evaluated based on their performance on a hold out test set, Numerai evaluates models based only on their <ins>live performance</ins> in the real stock market.\n",
    "\n",
    "To compete in the tournament, your model must submit live predictions on live features released every day. Only the scores of these live predictions count towards your model's live performance.\n",
    "\n",
    "Here is how you create a single live submission using the latest live features released today. "
   ]
  },
  {
   "cell_type": "code",
   "execution_count": 103,
   "metadata": {},
   "outputs": [
    {
     "name": "stderr",
     "output_type": "stream",
     "text": [
      "2023-04-08 22:57:37,618 INFO numerapi.utils: target file already exists\n",
      "2023-04-08 22:57:37,620 INFO numerapi.utils: download complete\n"
     ]
    },
    {
     "data": {
      "text/html": [
       "<div>\n",
       "<style scoped>\n",
       "    .dataframe tbody tr th:only-of-type {\n",
       "        vertical-align: middle;\n",
       "    }\n",
       "\n",
       "    .dataframe tbody tr th {\n",
       "        vertical-align: top;\n",
       "    }\n",
       "\n",
       "    .dataframe thead th {\n",
       "        text-align: right;\n",
       "    }\n",
       "</style>\n",
       "<table border=\"1\" class=\"dataframe\">\n",
       "  <thead>\n",
       "    <tr style=\"text-align: right;\">\n",
       "      <th></th>\n",
       "      <th>prediction</th>\n",
       "    </tr>\n",
       "    <tr>\n",
       "      <th>id</th>\n",
       "      <th></th>\n",
       "    </tr>\n",
       "  </thead>\n",
       "  <tbody>\n",
       "    <tr>\n",
       "      <th>n000ccedd86fc94f</th>\n",
       "      <td>0.508249</td>\n",
       "    </tr>\n",
       "    <tr>\n",
       "      <th>n00176ebf594813d</th>\n",
       "      <td>0.498361</td>\n",
       "    </tr>\n",
       "    <tr>\n",
       "      <th>n001cf85bd0f00c2</th>\n",
       "      <td>0.513214</td>\n",
       "    </tr>\n",
       "    <tr>\n",
       "      <th>n0021b1a1cd9b6a2</th>\n",
       "      <td>0.494165</td>\n",
       "    </tr>\n",
       "    <tr>\n",
       "      <th>n00265667860b9a4</th>\n",
       "      <td>0.493760</td>\n",
       "    </tr>\n",
       "    <tr>\n",
       "      <th>...</th>\n",
       "      <td>...</td>\n",
       "    </tr>\n",
       "    <tr>\n",
       "      <th>nffd201c03edde50</th>\n",
       "      <td>0.484038</td>\n",
       "    </tr>\n",
       "    <tr>\n",
       "      <th>nffe84ece843f7a5</th>\n",
       "      <td>0.495339</td>\n",
       "    </tr>\n",
       "    <tr>\n",
       "      <th>nffe973d2b240b11</th>\n",
       "      <td>0.497390</td>\n",
       "    </tr>\n",
       "    <tr>\n",
       "      <th>nfff0d140b6800b5</th>\n",
       "      <td>0.501354</td>\n",
       "    </tr>\n",
       "    <tr>\n",
       "      <th>nfffbf731f068b46</th>\n",
       "      <td>0.497210</td>\n",
       "    </tr>\n",
       "  </tbody>\n",
       "</table>\n",
       "<p>5173 rows × 1 columns</p>\n",
       "</div>"
      ],
      "text/plain": [
       "                  prediction\n",
       "id                          \n",
       "n000ccedd86fc94f  0.508249  \n",
       "n00176ebf594813d  0.498361  \n",
       "n001cf85bd0f00c2  0.513214  \n",
       "n0021b1a1cd9b6a2  0.494165  \n",
       "n00265667860b9a4  0.493760  \n",
       "...                    ...  \n",
       "nffd201c03edde50  0.484038  \n",
       "nffe84ece843f7a5  0.495339  \n",
       "nffe973d2b240b11  0.497390  \n",
       "nfff0d140b6800b5  0.501354  \n",
       "nfffbf731f068b46  0.497210  \n",
       "\n",
       "[5173 rows x 1 columns]"
      ]
     },
     "execution_count": 103,
     "metadata": {},
     "output_type": "execute_result"
    }
   ],
   "source": [
    "# Download latest live features\n",
    "napi.download_dataset(\"v4.1/live.parquet\")\n",
    "\n",
    "# Load live features\n",
    "live_features = pd.read_parquet(\"v4.1/live.parquet\", columns=feature_cols)\n",
    "\n",
    "# Generate live predictions\n",
    "live_predictions = model.predict(live_features[feature_cols])\n",
    "\n",
    "# Format submission\n",
    "submission = pd.Series(live_predictions, index=live_features.index).to_frame(\"prediction\")\n",
    "submission"
   ]
  },
  {
   "attachments": {},
   "cell_type": "markdown",
   "metadata": {},
   "source": [
    "To automate your daily submission, you can simply <ins>pickle</ins> and <ins>upload your model pipeline</ins> to Numerai."
   ]
  },
  {
   "cell_type": "code",
   "execution_count": 100,
   "metadata": {},
   "outputs": [],
   "source": [
    "# Define your model pipeline as a function that takes a dataframe of features and returns a dataframe of predictions\n",
    "# You can add any arbitrary code here but just know that you won't have access to the network or file system during runtime\n",
    "# Also note that your model will be run in a sandboxed environment with limited resources and must complete within 60 minutes.\n",
    "def predict(live_features):\n",
    "    live_predictions = model.predict(live_features[feature_cols])\n",
    "    submission = pd.Series(live_predictions, index=live_features.index)\n",
    "    return submission.to_frame(\"prediction\")\n",
    "\n",
    "# Use the cloudpickle library to serialize your model pipeline and all its dependencies\n",
    "import cloudpickle\n",
    "p = cloudpickle.dumps(predict)\n",
    "with open(\"example_model.pkl\", \"wb\") as f:\n",
    "    f.write(p)"
   ]
  },
  {
   "cell_type": "code",
   "execution_count": 105,
   "metadata": {},
   "outputs": [],
   "source": [
    "# If running in Colab, download the model file\n",
    "try:\n",
    "  from google.colab import files\n",
    "  files.download('example_model.pkl')\n",
    "except:\n",
    "  pass"
   ]
  },
  {
   "attachments": {},
   "cell_type": "markdown",
   "metadata": {},
   "source": [
    "Now login to your Numerai account upload the model pickle file at [numer.ai/models](numer.ai/models)!"
   ]
  }
 ],
 "metadata": {
  "kernelspec": {
   "display_name": ".venv",
   "language": "python",
   "name": "python3"
  },
  "language_info": {
   "codemirror_mode": {
    "name": "ipython",
    "version": 3
   },
   "file_extension": ".py",
   "mimetype": "text/x-python",
   "name": "python",
   "nbconvert_exporter": "python",
   "pygments_lexer": "ipython3",
   "version": "3.11.2"
  },
  "orig_nbformat": 4
 },
 "nbformat": 4,
 "nbformat_minor": 2
}
